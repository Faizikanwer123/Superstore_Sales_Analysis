{
 "cells": [
  {
   "cell_type": "code",
   "execution_count": 1,
   "id": "f7b7b8c4",
   "metadata": {},
   "outputs": [
    {
     "name": "stderr",
     "output_type": "stream",
     "text": [
      "C:\\Users\\Faraz\\AppData\\Local\\Programs\\Python\\Python310\\lib\\site-packages\\scipy\\__init__.py:146: UserWarning: A NumPy version >=1.16.5 and <1.23.0 is required for this version of SciPy (detected version 1.25.2\n",
      "  warnings.warn(f\"A NumPy version >={np_minversion} and <{np_maxversion}\"\n"
     ]
    }
   ],
   "source": [
    "import pandas as pd\n",
    "import numpy as np\n",
    "import matplotlib.pyplot as plt\n",
    "import seaborn as sns "
   ]
  },
  {
   "cell_type": "code",
   "execution_count": 2,
   "id": "f057482c",
   "metadata": {},
   "outputs": [
    {
     "data": {
      "text/html": [
       "<div>\n",
       "<style scoped>\n",
       "    .dataframe tbody tr th:only-of-type {\n",
       "        vertical-align: middle;\n",
       "    }\n",
       "\n",
       "    .dataframe tbody tr th {\n",
       "        vertical-align: top;\n",
       "    }\n",
       "\n",
       "    .dataframe thead th {\n",
       "        text-align: right;\n",
       "    }\n",
       "</style>\n",
       "<table border=\"1\" class=\"dataframe\">\n",
       "  <thead>\n",
       "    <tr style=\"text-align: right;\">\n",
       "      <th></th>\n",
       "      <th>Row ID</th>\n",
       "      <th>Order ID</th>\n",
       "      <th>Order Date</th>\n",
       "      <th>Ship Date</th>\n",
       "      <th>Ship Mode</th>\n",
       "      <th>Customer ID</th>\n",
       "      <th>Customer Name</th>\n",
       "      <th>Segment</th>\n",
       "      <th>Country</th>\n",
       "      <th>City</th>\n",
       "      <th>...</th>\n",
       "      <th>Postal Code</th>\n",
       "      <th>Region</th>\n",
       "      <th>Product ID</th>\n",
       "      <th>Category</th>\n",
       "      <th>Sub-Category</th>\n",
       "      <th>Product Name</th>\n",
       "      <th>Sales</th>\n",
       "      <th>Quantity</th>\n",
       "      <th>Discount</th>\n",
       "      <th>Profit</th>\n",
       "    </tr>\n",
       "  </thead>\n",
       "  <tbody>\n",
       "    <tr>\n",
       "      <th>0</th>\n",
       "      <td>1</td>\n",
       "      <td>CA-2013-152156</td>\n",
       "      <td>09-11-2013</td>\n",
       "      <td>12-11-2013</td>\n",
       "      <td>Second Class</td>\n",
       "      <td>CG-12520</td>\n",
       "      <td>Claire Gute</td>\n",
       "      <td>Consumer</td>\n",
       "      <td>United States</td>\n",
       "      <td>Henderson</td>\n",
       "      <td>...</td>\n",
       "      <td>42420</td>\n",
       "      <td>South</td>\n",
       "      <td>FUR-BO-10001798</td>\n",
       "      <td>Furniture</td>\n",
       "      <td>Bookcases</td>\n",
       "      <td>Bush Somerset Collection Bookcase</td>\n",
       "      <td>261.9600</td>\n",
       "      <td>2</td>\n",
       "      <td>0.00</td>\n",
       "      <td>41.9136</td>\n",
       "    </tr>\n",
       "    <tr>\n",
       "      <th>1</th>\n",
       "      <td>2</td>\n",
       "      <td>CA-2013-152156</td>\n",
       "      <td>09-11-2013</td>\n",
       "      <td>12-11-2013</td>\n",
       "      <td>Second Class</td>\n",
       "      <td>CG-12520</td>\n",
       "      <td>Claire Gute</td>\n",
       "      <td>Consumer</td>\n",
       "      <td>United States</td>\n",
       "      <td>Henderson</td>\n",
       "      <td>...</td>\n",
       "      <td>42420</td>\n",
       "      <td>South</td>\n",
       "      <td>FUR-CH-10000454</td>\n",
       "      <td>Furniture</td>\n",
       "      <td>Chairs</td>\n",
       "      <td>Hon Deluxe Fabric Upholstered Stacking Chairs,...</td>\n",
       "      <td>731.9400</td>\n",
       "      <td>3</td>\n",
       "      <td>0.00</td>\n",
       "      <td>219.5820</td>\n",
       "    </tr>\n",
       "    <tr>\n",
       "      <th>2</th>\n",
       "      <td>3</td>\n",
       "      <td>CA-2013-138688</td>\n",
       "      <td>13-06-2013</td>\n",
       "      <td>17-06-2013</td>\n",
       "      <td>Second Class</td>\n",
       "      <td>DV-13045</td>\n",
       "      <td>Darrin Van Huff</td>\n",
       "      <td>Corporate</td>\n",
       "      <td>United States</td>\n",
       "      <td>Los Angeles</td>\n",
       "      <td>...</td>\n",
       "      <td>90036</td>\n",
       "      <td>West</td>\n",
       "      <td>OFF-LA-10000240</td>\n",
       "      <td>Office Supplies</td>\n",
       "      <td>Labels</td>\n",
       "      <td>Self-Adhesive Address Labels for Typewriters b...</td>\n",
       "      <td>14.6200</td>\n",
       "      <td>2</td>\n",
       "      <td>0.00</td>\n",
       "      <td>6.8714</td>\n",
       "    </tr>\n",
       "    <tr>\n",
       "      <th>3</th>\n",
       "      <td>4</td>\n",
       "      <td>US-2012-108966</td>\n",
       "      <td>11-10-2012</td>\n",
       "      <td>18-10-2012</td>\n",
       "      <td>Standard Class</td>\n",
       "      <td>SO-20335</td>\n",
       "      <td>Sean O'Donnell</td>\n",
       "      <td>Consumer</td>\n",
       "      <td>United States</td>\n",
       "      <td>Fort Lauderdale</td>\n",
       "      <td>...</td>\n",
       "      <td>33311</td>\n",
       "      <td>South</td>\n",
       "      <td>FUR-TA-10000577</td>\n",
       "      <td>Furniture</td>\n",
       "      <td>Tables</td>\n",
       "      <td>Bretford CR4500 Series Slim Rectangular Table</td>\n",
       "      <td>957.5775</td>\n",
       "      <td>5</td>\n",
       "      <td>0.45</td>\n",
       "      <td>-383.0310</td>\n",
       "    </tr>\n",
       "    <tr>\n",
       "      <th>4</th>\n",
       "      <td>5</td>\n",
       "      <td>US-2012-108966</td>\n",
       "      <td>11-10-2012</td>\n",
       "      <td>18-10-2012</td>\n",
       "      <td>Standard Class</td>\n",
       "      <td>SO-20335</td>\n",
       "      <td>Sean O'Donnell</td>\n",
       "      <td>Consumer</td>\n",
       "      <td>United States</td>\n",
       "      <td>Fort Lauderdale</td>\n",
       "      <td>...</td>\n",
       "      <td>33311</td>\n",
       "      <td>South</td>\n",
       "      <td>OFF-ST-10000760</td>\n",
       "      <td>Office Supplies</td>\n",
       "      <td>Storage</td>\n",
       "      <td>Eldon Fold 'N Roll Cart System</td>\n",
       "      <td>22.3680</td>\n",
       "      <td>2</td>\n",
       "      <td>0.20</td>\n",
       "      <td>2.5164</td>\n",
       "    </tr>\n",
       "    <tr>\n",
       "      <th>...</th>\n",
       "      <td>...</td>\n",
       "      <td>...</td>\n",
       "      <td>...</td>\n",
       "      <td>...</td>\n",
       "      <td>...</td>\n",
       "      <td>...</td>\n",
       "      <td>...</td>\n",
       "      <td>...</td>\n",
       "      <td>...</td>\n",
       "      <td>...</td>\n",
       "      <td>...</td>\n",
       "      <td>...</td>\n",
       "      <td>...</td>\n",
       "      <td>...</td>\n",
       "      <td>...</td>\n",
       "      <td>...</td>\n",
       "      <td>...</td>\n",
       "      <td>...</td>\n",
       "      <td>...</td>\n",
       "      <td>...</td>\n",
       "      <td>...</td>\n",
       "    </tr>\n",
       "    <tr>\n",
       "      <th>9989</th>\n",
       "      <td>9990</td>\n",
       "      <td>CA-2011-110422</td>\n",
       "      <td>22-01-2011</td>\n",
       "      <td>24-01-2011</td>\n",
       "      <td>Second Class</td>\n",
       "      <td>TB-21400</td>\n",
       "      <td>Tom Boeckenhauer</td>\n",
       "      <td>Consumer</td>\n",
       "      <td>United States</td>\n",
       "      <td>Miami</td>\n",
       "      <td>...</td>\n",
       "      <td>33180</td>\n",
       "      <td>South</td>\n",
       "      <td>FUR-FU-10001889</td>\n",
       "      <td>Furniture</td>\n",
       "      <td>Furnishings</td>\n",
       "      <td>Ultra Door Pull Handle</td>\n",
       "      <td>25.2480</td>\n",
       "      <td>3</td>\n",
       "      <td>0.20</td>\n",
       "      <td>4.1028</td>\n",
       "    </tr>\n",
       "    <tr>\n",
       "      <th>9990</th>\n",
       "      <td>9991</td>\n",
       "      <td>CA-2014-121258</td>\n",
       "      <td>27-02-2014</td>\n",
       "      <td>04-03-2014</td>\n",
       "      <td>Standard Class</td>\n",
       "      <td>DB-13060</td>\n",
       "      <td>Dave Brooks</td>\n",
       "      <td>Consumer</td>\n",
       "      <td>United States</td>\n",
       "      <td>Costa Mesa</td>\n",
       "      <td>...</td>\n",
       "      <td>92627</td>\n",
       "      <td>West</td>\n",
       "      <td>FUR-FU-10000747</td>\n",
       "      <td>Furniture</td>\n",
       "      <td>Furnishings</td>\n",
       "      <td>Tenex B1-RE Series Chair Mats for Low Pile Car...</td>\n",
       "      <td>91.9600</td>\n",
       "      <td>2</td>\n",
       "      <td>0.00</td>\n",
       "      <td>15.6332</td>\n",
       "    </tr>\n",
       "    <tr>\n",
       "      <th>9991</th>\n",
       "      <td>9992</td>\n",
       "      <td>CA-2014-121258</td>\n",
       "      <td>27-02-2014</td>\n",
       "      <td>04-03-2014</td>\n",
       "      <td>Standard Class</td>\n",
       "      <td>DB-13060</td>\n",
       "      <td>Dave Brooks</td>\n",
       "      <td>Consumer</td>\n",
       "      <td>United States</td>\n",
       "      <td>Costa Mesa</td>\n",
       "      <td>...</td>\n",
       "      <td>92627</td>\n",
       "      <td>West</td>\n",
       "      <td>TEC-PH-10003645</td>\n",
       "      <td>Technology</td>\n",
       "      <td>Phones</td>\n",
       "      <td>Aastra 57i VoIP phone</td>\n",
       "      <td>258.5760</td>\n",
       "      <td>2</td>\n",
       "      <td>0.20</td>\n",
       "      <td>19.3932</td>\n",
       "    </tr>\n",
       "    <tr>\n",
       "      <th>9992</th>\n",
       "      <td>9993</td>\n",
       "      <td>CA-2014-121258</td>\n",
       "      <td>27-02-2014</td>\n",
       "      <td>04-03-2014</td>\n",
       "      <td>Standard Class</td>\n",
       "      <td>DB-13060</td>\n",
       "      <td>Dave Brooks</td>\n",
       "      <td>Consumer</td>\n",
       "      <td>United States</td>\n",
       "      <td>Costa Mesa</td>\n",
       "      <td>...</td>\n",
       "      <td>92627</td>\n",
       "      <td>West</td>\n",
       "      <td>OFF-PA-10004041</td>\n",
       "      <td>Office Supplies</td>\n",
       "      <td>Paper</td>\n",
       "      <td>It's Hot Message Books with Stickers, 2 3/4\" x 5\"</td>\n",
       "      <td>29.6000</td>\n",
       "      <td>4</td>\n",
       "      <td>0.00</td>\n",
       "      <td>13.3200</td>\n",
       "    </tr>\n",
       "    <tr>\n",
       "      <th>9993</th>\n",
       "      <td>9994</td>\n",
       "      <td>CA-2014-119914</td>\n",
       "      <td>05-05-2014</td>\n",
       "      <td>10-05-2014</td>\n",
       "      <td>Second Class</td>\n",
       "      <td>CC-12220</td>\n",
       "      <td>Chris Cortes</td>\n",
       "      <td>Consumer</td>\n",
       "      <td>United States</td>\n",
       "      <td>Westminster</td>\n",
       "      <td>...</td>\n",
       "      <td>92683</td>\n",
       "      <td>West</td>\n",
       "      <td>OFF-AP-10002684</td>\n",
       "      <td>Office Supplies</td>\n",
       "      <td>Appliances</td>\n",
       "      <td>Acco 7-Outlet Masterpiece Power Center, Wihtou...</td>\n",
       "      <td>243.1600</td>\n",
       "      <td>2</td>\n",
       "      <td>0.00</td>\n",
       "      <td>72.9480</td>\n",
       "    </tr>\n",
       "  </tbody>\n",
       "</table>\n",
       "<p>9994 rows × 21 columns</p>\n",
       "</div>"
      ],
      "text/plain": [
       "      Row ID        Order ID  Order Date   Ship Date       Ship Mode  \\\n",
       "0          1  CA-2013-152156  09-11-2013  12-11-2013    Second Class   \n",
       "1          2  CA-2013-152156  09-11-2013  12-11-2013    Second Class   \n",
       "2          3  CA-2013-138688  13-06-2013  17-06-2013    Second Class   \n",
       "3          4  US-2012-108966  11-10-2012  18-10-2012  Standard Class   \n",
       "4          5  US-2012-108966  11-10-2012  18-10-2012  Standard Class   \n",
       "...      ...             ...         ...         ...             ...   \n",
       "9989    9990  CA-2011-110422  22-01-2011  24-01-2011    Second Class   \n",
       "9990    9991  CA-2014-121258  27-02-2014  04-03-2014  Standard Class   \n",
       "9991    9992  CA-2014-121258  27-02-2014  04-03-2014  Standard Class   \n",
       "9992    9993  CA-2014-121258  27-02-2014  04-03-2014  Standard Class   \n",
       "9993    9994  CA-2014-119914  05-05-2014  10-05-2014    Second Class   \n",
       "\n",
       "     Customer ID     Customer Name    Segment        Country             City  \\\n",
       "0       CG-12520       Claire Gute   Consumer  United States        Henderson   \n",
       "1       CG-12520       Claire Gute   Consumer  United States        Henderson   \n",
       "2       DV-13045   Darrin Van Huff  Corporate  United States      Los Angeles   \n",
       "3       SO-20335    Sean O'Donnell   Consumer  United States  Fort Lauderdale   \n",
       "4       SO-20335    Sean O'Donnell   Consumer  United States  Fort Lauderdale   \n",
       "...          ...               ...        ...            ...              ...   \n",
       "9989    TB-21400  Tom Boeckenhauer   Consumer  United States            Miami   \n",
       "9990    DB-13060       Dave Brooks   Consumer  United States       Costa Mesa   \n",
       "9991    DB-13060       Dave Brooks   Consumer  United States       Costa Mesa   \n",
       "9992    DB-13060       Dave Brooks   Consumer  United States       Costa Mesa   \n",
       "9993    CC-12220      Chris Cortes   Consumer  United States      Westminster   \n",
       "\n",
       "      ... Postal Code  Region       Product ID         Category Sub-Category  \\\n",
       "0     ...       42420   South  FUR-BO-10001798        Furniture    Bookcases   \n",
       "1     ...       42420   South  FUR-CH-10000454        Furniture       Chairs   \n",
       "2     ...       90036    West  OFF-LA-10000240  Office Supplies       Labels   \n",
       "3     ...       33311   South  FUR-TA-10000577        Furniture       Tables   \n",
       "4     ...       33311   South  OFF-ST-10000760  Office Supplies      Storage   \n",
       "...   ...         ...     ...              ...              ...          ...   \n",
       "9989  ...       33180   South  FUR-FU-10001889        Furniture  Furnishings   \n",
       "9990  ...       92627    West  FUR-FU-10000747        Furniture  Furnishings   \n",
       "9991  ...       92627    West  TEC-PH-10003645       Technology       Phones   \n",
       "9992  ...       92627    West  OFF-PA-10004041  Office Supplies        Paper   \n",
       "9993  ...       92683    West  OFF-AP-10002684  Office Supplies   Appliances   \n",
       "\n",
       "                                           Product Name     Sales  Quantity  \\\n",
       "0                     Bush Somerset Collection Bookcase  261.9600         2   \n",
       "1     Hon Deluxe Fabric Upholstered Stacking Chairs,...  731.9400         3   \n",
       "2     Self-Adhesive Address Labels for Typewriters b...   14.6200         2   \n",
       "3         Bretford CR4500 Series Slim Rectangular Table  957.5775         5   \n",
       "4                        Eldon Fold 'N Roll Cart System   22.3680         2   \n",
       "...                                                 ...       ...       ...   \n",
       "9989                             Ultra Door Pull Handle   25.2480         3   \n",
       "9990  Tenex B1-RE Series Chair Mats for Low Pile Car...   91.9600         2   \n",
       "9991                              Aastra 57i VoIP phone  258.5760         2   \n",
       "9992  It's Hot Message Books with Stickers, 2 3/4\" x 5\"   29.6000         4   \n",
       "9993  Acco 7-Outlet Masterpiece Power Center, Wihtou...  243.1600         2   \n",
       "\n",
       "      Discount    Profit  \n",
       "0         0.00   41.9136  \n",
       "1         0.00  219.5820  \n",
       "2         0.00    6.8714  \n",
       "3         0.45 -383.0310  \n",
       "4         0.20    2.5164  \n",
       "...        ...       ...  \n",
       "9989      0.20    4.1028  \n",
       "9990      0.00   15.6332  \n",
       "9991      0.20   19.3932  \n",
       "9992      0.00   13.3200  \n",
       "9993      0.00   72.9480  \n",
       "\n",
       "[9994 rows x 21 columns]"
      ]
     },
     "execution_count": 2,
     "metadata": {},
     "output_type": "execute_result"
    }
   ],
   "source": [
    "URL=\"C:\\\\Users\\\\Faraz\\\\Superstore.csv\"\n",
    "df=pd.read_csv(URL,encoding='ISO-8859-1')\n",
    "df"
   ]
  },
  {
   "cell_type": "code",
   "execution_count": 3,
   "id": "93ea4a03",
   "metadata": {},
   "outputs": [
    {
     "data": {
      "text/plain": [
       "Index(['Row ID', 'Order ID', 'Order Date', 'Ship Date', 'Ship Mode',\n",
       "       'Customer ID', 'Customer Name', 'Segment', 'Country', 'City', 'State',\n",
       "       'Postal Code', 'Region', 'Product ID', 'Category', 'Sub-Category',\n",
       "       'Product Name', 'Sales', 'Quantity', 'Discount', 'Profit'],\n",
       "      dtype='object')"
      ]
     },
     "execution_count": 3,
     "metadata": {},
     "output_type": "execute_result"
    }
   ],
   "source": [
    "df.columns"
   ]
  },
  {
   "cell_type": "code",
   "execution_count": 4,
   "id": "94c8179b",
   "metadata": {},
   "outputs": [
    {
     "name": "stdout",
     "output_type": "stream",
     "text": [
      "<class 'pandas.core.frame.DataFrame'>\n",
      "RangeIndex: 9994 entries, 0 to 9993\n",
      "Data columns (total 21 columns):\n",
      " #   Column         Non-Null Count  Dtype  \n",
      "---  ------         --------------  -----  \n",
      " 0   Row ID         9994 non-null   int64  \n",
      " 1   Order ID       9994 non-null   object \n",
      " 2   Order Date     9994 non-null   object \n",
      " 3   Ship Date      9994 non-null   object \n",
      " 4   Ship Mode      9994 non-null   object \n",
      " 5   Customer ID    9994 non-null   object \n",
      " 6   Customer Name  9994 non-null   object \n",
      " 7   Segment        9994 non-null   object \n",
      " 8   Country        9994 non-null   object \n",
      " 9   City           9994 non-null   object \n",
      " 10  State          9994 non-null   object \n",
      " 11  Postal Code    9994 non-null   int64  \n",
      " 12  Region         9994 non-null   object \n",
      " 13  Product ID     9994 non-null   object \n",
      " 14  Category       9994 non-null   object \n",
      " 15  Sub-Category   9994 non-null   object \n",
      " 16  Product Name   9994 non-null   object \n",
      " 17  Sales          9994 non-null   float64\n",
      " 18  Quantity       9994 non-null   int64  \n",
      " 19  Discount       9994 non-null   float64\n",
      " 20  Profit         9994 non-null   float64\n",
      "dtypes: float64(3), int64(3), object(15)\n",
      "memory usage: 1.6+ MB\n"
     ]
    }
   ],
   "source": [
    "df.info()"
   ]
  },
  {
   "cell_type": "code",
   "execution_count": 5,
   "id": "74c4f0c4",
   "metadata": {},
   "outputs": [
    {
     "data": {
      "text/plain": [
       "Row ID           0\n",
       "Order ID         0\n",
       "Order Date       0\n",
       "Ship Date        0\n",
       "Ship Mode        0\n",
       "Customer ID      0\n",
       "Customer Name    0\n",
       "Segment          0\n",
       "Country          0\n",
       "City             0\n",
       "State            0\n",
       "Postal Code      0\n",
       "Region           0\n",
       "Product ID       0\n",
       "Category         0\n",
       "Sub-Category     0\n",
       "Product Name     0\n",
       "Sales            0\n",
       "Quantity         0\n",
       "Discount         0\n",
       "Profit           0\n",
       "dtype: int64"
      ]
     },
     "execution_count": 5,
     "metadata": {},
     "output_type": "execute_result"
    }
   ],
   "source": [
    "df.isnull().sum()"
   ]
  },
  {
   "cell_type": "code",
   "execution_count": 6,
   "id": "fdde6b92",
   "metadata": {},
   "outputs": [
    {
     "data": {
      "text/plain": [
       "0       CA-2013-152156\n",
       "2       CA-2013-138688\n",
       "3       US-2012-108966\n",
       "5       CA-2011-115812\n",
       "12      CA-2014-114412\n",
       "             ...      \n",
       "9986    CA-2013-125794\n",
       "9987    CA-2014-163629\n",
       "9989    CA-2011-110422\n",
       "9990    CA-2014-121258\n",
       "9993    CA-2014-119914\n",
       "Name: Order ID, Length: 5009, dtype: object"
      ]
     },
     "execution_count": 6,
     "metadata": {},
     "output_type": "execute_result"
    }
   ],
   "source": [
    "df.drop(['Row ID'],axis=1,inplace=True)\n",
    "df['Order ID'].drop_duplicates()"
   ]
  },
  {
   "cell_type": "code",
   "execution_count": 7,
   "id": "1af2909b",
   "metadata": {},
   "outputs": [
    {
     "data": {
      "text/plain": [
       "(9994, 20)"
      ]
     },
     "execution_count": 7,
     "metadata": {},
     "output_type": "execute_result"
    }
   ],
   "source": [
    "df.shape"
   ]
  },
  {
   "cell_type": "code",
   "execution_count": 8,
   "id": "5cb8ac3e",
   "metadata": {},
   "outputs": [],
   "source": [
    "keva={}\n",
    "for i in df.columns:\n",
    "    keva[i]=df[i].dtype\n",
    "    "
   ]
  },
  {
   "cell_type": "code",
   "execution_count": 9,
   "id": "60a33c0c",
   "metadata": {},
   "outputs": [
    {
     "data": {
      "text/plain": [
       "{'Order ID': dtype('O'),\n",
       " 'Order Date': dtype('O'),\n",
       " 'Ship Date': dtype('O'),\n",
       " 'Ship Mode': dtype('O'),\n",
       " 'Customer ID': dtype('O'),\n",
       " 'Customer Name': dtype('O'),\n",
       " 'Segment': dtype('O'),\n",
       " 'Country': dtype('O'),\n",
       " 'City': dtype('O'),\n",
       " 'State': dtype('O'),\n",
       " 'Postal Code': dtype('int64'),\n",
       " 'Region': dtype('O'),\n",
       " 'Product ID': dtype('O'),\n",
       " 'Category': dtype('O'),\n",
       " 'Sub-Category': dtype('O'),\n",
       " 'Product Name': dtype('O'),\n",
       " 'Sales': dtype('float64'),\n",
       " 'Quantity': dtype('int64'),\n",
       " 'Discount': dtype('float64'),\n",
       " 'Profit': dtype('float64')}"
      ]
     },
     "execution_count": 9,
     "metadata": {},
     "output_type": "execute_result"
    }
   ],
   "source": [
    "keva"
   ]
  },
  {
   "cell_type": "code",
   "execution_count": 10,
   "id": "a7f9df0f",
   "metadata": {},
   "outputs": [
    {
     "data": {
      "text/html": [
       "<div>\n",
       "<style scoped>\n",
       "    .dataframe tbody tr th:only-of-type {\n",
       "        vertical-align: middle;\n",
       "    }\n",
       "\n",
       "    .dataframe tbody tr th {\n",
       "        vertical-align: top;\n",
       "    }\n",
       "\n",
       "    .dataframe thead th {\n",
       "        text-align: right;\n",
       "    }\n",
       "</style>\n",
       "<table border=\"1\" class=\"dataframe\">\n",
       "  <thead>\n",
       "    <tr style=\"text-align: right;\">\n",
       "      <th></th>\n",
       "      <th>Country</th>\n",
       "      <th>City</th>\n",
       "      <th>State</th>\n",
       "      <th>Product Name</th>\n",
       "    </tr>\n",
       "  </thead>\n",
       "  <tbody>\n",
       "    <tr>\n",
       "      <th>0</th>\n",
       "      <td>United States</td>\n",
       "      <td>Henderson</td>\n",
       "      <td>Kentucky</td>\n",
       "      <td>Bush Somerset Collection Bookcase</td>\n",
       "    </tr>\n",
       "    <tr>\n",
       "      <th>1</th>\n",
       "      <td>United States</td>\n",
       "      <td>Henderson</td>\n",
       "      <td>Kentucky</td>\n",
       "      <td>Hon Deluxe Fabric Upholstered Stacking Chairs,...</td>\n",
       "    </tr>\n",
       "    <tr>\n",
       "      <th>2</th>\n",
       "      <td>United States</td>\n",
       "      <td>Los Angeles</td>\n",
       "      <td>California</td>\n",
       "      <td>Self-Adhesive Address Labels for Typewriters b...</td>\n",
       "    </tr>\n",
       "    <tr>\n",
       "      <th>3</th>\n",
       "      <td>United States</td>\n",
       "      <td>Fort Lauderdale</td>\n",
       "      <td>Florida</td>\n",
       "      <td>Bretford CR4500 Series Slim Rectangular Table</td>\n",
       "    </tr>\n",
       "    <tr>\n",
       "      <th>4</th>\n",
       "      <td>United States</td>\n",
       "      <td>Fort Lauderdale</td>\n",
       "      <td>Florida</td>\n",
       "      <td>Eldon Fold 'N Roll Cart System</td>\n",
       "    </tr>\n",
       "    <tr>\n",
       "      <th>...</th>\n",
       "      <td>...</td>\n",
       "      <td>...</td>\n",
       "      <td>...</td>\n",
       "      <td>...</td>\n",
       "    </tr>\n",
       "    <tr>\n",
       "      <th>9989</th>\n",
       "      <td>United States</td>\n",
       "      <td>Miami</td>\n",
       "      <td>Florida</td>\n",
       "      <td>Ultra Door Pull Handle</td>\n",
       "    </tr>\n",
       "    <tr>\n",
       "      <th>9990</th>\n",
       "      <td>United States</td>\n",
       "      <td>Costa Mesa</td>\n",
       "      <td>California</td>\n",
       "      <td>Tenex B1-RE Series Chair Mats for Low Pile Car...</td>\n",
       "    </tr>\n",
       "    <tr>\n",
       "      <th>9991</th>\n",
       "      <td>United States</td>\n",
       "      <td>Costa Mesa</td>\n",
       "      <td>California</td>\n",
       "      <td>Aastra 57i VoIP phone</td>\n",
       "    </tr>\n",
       "    <tr>\n",
       "      <th>9992</th>\n",
       "      <td>United States</td>\n",
       "      <td>Costa Mesa</td>\n",
       "      <td>California</td>\n",
       "      <td>It's Hot Message Books with Stickers, 2 3/4\" x 5\"</td>\n",
       "    </tr>\n",
       "    <tr>\n",
       "      <th>9993</th>\n",
       "      <td>United States</td>\n",
       "      <td>Westminster</td>\n",
       "      <td>California</td>\n",
       "      <td>Acco 7-Outlet Masterpiece Power Center, Wihtou...</td>\n",
       "    </tr>\n",
       "  </tbody>\n",
       "</table>\n",
       "<p>9994 rows × 4 columns</p>\n",
       "</div>"
      ],
      "text/plain": [
       "            Country             City       State  \\\n",
       "0     United States        Henderson    Kentucky   \n",
       "1     United States        Henderson    Kentucky   \n",
       "2     United States      Los Angeles  California   \n",
       "3     United States  Fort Lauderdale     Florida   \n",
       "4     United States  Fort Lauderdale     Florida   \n",
       "...             ...              ...         ...   \n",
       "9989  United States            Miami     Florida   \n",
       "9990  United States       Costa Mesa  California   \n",
       "9991  United States       Costa Mesa  California   \n",
       "9992  United States       Costa Mesa  California   \n",
       "9993  United States      Westminster  California   \n",
       "\n",
       "                                           Product Name  \n",
       "0                     Bush Somerset Collection Bookcase  \n",
       "1     Hon Deluxe Fabric Upholstered Stacking Chairs,...  \n",
       "2     Self-Adhesive Address Labels for Typewriters b...  \n",
       "3         Bretford CR4500 Series Slim Rectangular Table  \n",
       "4                        Eldon Fold 'N Roll Cart System  \n",
       "...                                                 ...  \n",
       "9989                             Ultra Door Pull Handle  \n",
       "9990  Tenex B1-RE Series Chair Mats for Low Pile Car...  \n",
       "9991                              Aastra 57i VoIP phone  \n",
       "9992  It's Hot Message Books with Stickers, 2 3/4\" x 5\"  \n",
       "9993  Acco 7-Outlet Masterpiece Power Center, Wihtou...  \n",
       "\n",
       "[9994 rows x 4 columns]"
      ]
     },
     "execution_count": 10,
     "metadata": {},
     "output_type": "execute_result"
    }
   ],
   "source": [
    "df[['Country','City','State','Product Name']]"
   ]
  },
  {
   "cell_type": "code",
   "execution_count": 11,
   "id": "ab243f42",
   "metadata": {
    "scrolled": true
   },
   "outputs": [
    {
     "data": {
      "text/plain": [
       "<Axes: xlabel='City', ylabel='Sales'>"
      ]
     },
     "execution_count": 11,
     "metadata": {},
     "output_type": "execute_result"
    },
    {
     "data": {
      "image/png": "[encoded data removed]",
      "text/plain": [
       "<Figure size 432x288 with 1 Axes>"
      ]
     },
     "metadata": {
      "needs_background": "light"
     },
     "output_type": "display_data"
    }
   ],
   "source": [
    "a=df.groupby('City',as_index=False)['Sales'].sum().sort_values(by='Sales',ascending=False)\n",
    "cities_high_sales=a.head()\n",
    "cities_low_sales=a.tail()\n",
    "sns.barplot(x='City',y='Sales',data=cities_high_sales)"
   ]
  },
  {
   "cell_type": "code",
   "execution_count": 12,
   "id": "49e961cd",
   "metadata": {},
   "outputs": [
    {
     "data": {
      "text/plain": [
       "<Axes: xlabel='City', ylabel='Sales'>"
      ]
     },
     "execution_count": 12,
     "metadata": {},
     "output_type": "execute_result"
    },
    {
     "data": {
      "image/png": "[encoded data removed]",
      "text/plain": [
       "<Figure size 432x288 with 1 Axes>"
      ]
     },
     "metadata": {
      "needs_background": "light"
     },
     "output_type": "display_data"
    }
   ],
   "source": [
    "sns.barplot(x='City',y='Sales',data=cities_low_sales)"
   ]
  },
  {
   "cell_type": "code",
   "execution_count": 13,
   "id": "26efbc21",
   "metadata": {},
   "outputs": [
    {
     "data": {
      "image/png": "[encoded data removed]",
      "text/plain": [
       "<Figure size 1080x360 with 1 Axes>"
      ]
     },
     "metadata": {},
     "output_type": "display_data"
    }
   ],
   "source": [
    "c=df['Product Name'].value_counts().reset_index()\n",
    "c.rename(columns={'index':'Product Name','Product Name':'Count'},inplace=True)\n",
    "product_high_sales=c.head()\n",
    "product_low_sales=c.tail()\n",
    "sns.set(rc={'figure.figsize':(15,5)})\n",
    "aa=sns.barplot(x='Product Name',y='Count', data=product_high_sales)\n",
    "\n",
    "for bars in aa.containers:\n",
    "    aa.bar_label(bars)"
   ]
  },
  {
   "cell_type": "code",
   "execution_count": 14,
   "id": "4818c1c5",
   "metadata": {},
   "outputs": [
    {
     "data": {
      "image/png": "[encoded data removed]",
      "text/plain": [
       "<Figure size 1080x360 with 1 Axes>"
      ]
     },
     "metadata": {},
     "output_type": "display_data"
    }
   ],
   "source": [
    "ab=sns.barplot(x='Product Name',y='Count', data=product_low_sales)\n",
    "\n",
    "for bars in aa.containers:\n",
    "    aa.bar_label(bars)"
   ]
  },
  {
   "cell_type": "code",
   "execution_count": 15,
   "id": "c22640c1",
   "metadata": {},
   "outputs": [
    {
     "data": {
      "text/plain": [
       "<Axes: xlabel='Product Name', ylabel='Sales'>"
      ]
     },
     "execution_count": 15,
     "metadata": {},
     "output_type": "execute_result"
    },
    {
     "data": {
      "image/png": "[encoded data removed]",
      "text/plain": [
       "<Figure size 1080x360 with 1 Axes>"
      ]
     },
     "metadata": {},
     "output_type": "display_data"
    }
   ],
   "source": [
    "kmc=df.groupby('Product Name',as_index=False)['Sales'].sum().sort_values(by='Sales',ascending=False)\n",
    "high_product_sales=kmc.head()\n",
    "low_product_sales=kmc.tail()\n",
    "sns.barplot(x='Product Name',y='Sales',data=high_product_sales)"
   ]
  },
  {
   "cell_type": "code",
   "execution_count": 16,
   "id": "6a9d24fb",
   "metadata": {},
   "outputs": [
    {
     "data": {
      "text/plain": [
       "<Axes: xlabel='Product Name', ylabel='Sales'>"
      ]
     },
     "execution_count": 16,
     "metadata": {},
     "output_type": "execute_result"
    },
    {
     "data": {
      "image/png": "[encoded data removed]",
      "text/plain": [
       "<Figure size 1080x360 with 1 Axes>"
      ]
     },
     "metadata": {},
     "output_type": "display_data"
    }
   ],
   "source": [
    "sns.barplot(x='Product Name',y='Sales',data=low_product_sales)"
   ]
  },
  {
   "cell_type": "code",
   "execution_count": 17,
   "id": "bebb129a",
   "metadata": {},
   "outputs": [
    {
     "data": {
      "text/html": [
       "<div>\n",
       "<style scoped>\n",
       "    .dataframe tbody tr th:only-of-type {\n",
       "        vertical-align: middle;\n",
       "    }\n",
       "\n",
       "    .dataframe tbody tr th {\n",
       "        vertical-align: top;\n",
       "    }\n",
       "\n",
       "    .dataframe thead th {\n",
       "        text-align: right;\n",
       "    }\n",
       "</style>\n",
       "<table border=\"1\" class=\"dataframe\">\n",
       "  <thead>\n",
       "    <tr style=\"text-align: right;\">\n",
       "      <th></th>\n",
       "      <th>Product Name</th>\n",
       "      <th>Sales</th>\n",
       "    </tr>\n",
       "  </thead>\n",
       "  <tbody>\n",
       "    <tr>\n",
       "      <th>252</th>\n",
       "      <td>Avery Hi-Liter Pen Style Six-Color Fluorescent...</td>\n",
       "      <td>7.700</td>\n",
       "    </tr>\n",
       "    <tr>\n",
       "      <th>782</th>\n",
       "      <td>Grip Seal Envelopes</td>\n",
       "      <td>7.072</td>\n",
       "    </tr>\n",
       "    <tr>\n",
       "      <th>1784</th>\n",
       "      <td>Xerox 20</td>\n",
       "      <td>6.480</td>\n",
       "    </tr>\n",
       "    <tr>\n",
       "      <th>207</th>\n",
       "      <td>Avery 5</td>\n",
       "      <td>5.760</td>\n",
       "    </tr>\n",
       "    <tr>\n",
       "      <th>603</th>\n",
       "      <td>Eureka Disposable Bags for Sanitaire Vibra Gro...</td>\n",
       "      <td>1.624</td>\n",
       "    </tr>\n",
       "  </tbody>\n",
       "</table>\n",
       "</div>"
      ],
      "text/plain": [
       "                                           Product Name  Sales\n",
       "252   Avery Hi-Liter Pen Style Six-Color Fluorescent...  7.700\n",
       "782                                 Grip Seal Envelopes  7.072\n",
       "1784                                           Xerox 20  6.480\n",
       "207                                             Avery 5  5.760\n",
       "603   Eureka Disposable Bags for Sanitaire Vibra Gro...  1.624"
      ]
     },
     "execution_count": 17,
     "metadata": {},
     "output_type": "execute_result"
    }
   ],
   "source": [
    "low_product_sales"
   ]
  },
  {
   "cell_type": "code",
   "execution_count": 18,
   "id": "53585345",
   "metadata": {},
   "outputs": [
    {
     "data": {
      "text/plain": [
       "<Axes: xlabel='Product Name', ylabel='Sales'>"
      ]
     },
     "execution_count": 18,
     "metadata": {},
     "output_type": "execute_result"
    },
    {
     "data": {
      "image/png": "[encoded data removed]",
      "text/plain": [
       "<Figure size 1080x360 with 1 Axes>"
      ]
     },
     "metadata": {},
     "output_type": "display_data"
    }
   ],
   "source": [
    "rr=df.groupby(['Product Name','City'],as_index=False)['Sales'].sum().sort_values(by='Sales',ascending=False)\n",
    "high_city_related_sales=rr.head()\n",
    "low_city_related_sales=rr.tail()\n",
    "sns.barplot(x='Product Name',y='Sales',data=high_city_related_sales,hue='City')"
   ]
  },
  {
   "cell_type": "code",
   "execution_count": 19,
   "id": "86c6813e",
   "metadata": {},
   "outputs": [
    {
     "data": {
      "text/plain": [
       "<Axes: xlabel='Product Name', ylabel='Sales'>"
      ]
     },
     "execution_count": 19,
     "metadata": {},
     "output_type": "execute_result"
    },
    {
     "data": {
      "image/png": "[encoded data removed]",
      "text/plain": [
       "<Figure size 1080x360 with 1 Axes>"
      ]
     },
     "metadata": {},
     "output_type": "display_data"
    }
   ],
   "source": [
    "sns.barplot(x='Product Name',y='Sales',data=low_city_related_sales,hue='City')"
   ]
  },
  {
   "cell_type": "code",
   "execution_count": 21,
   "id": "a0dce378",
   "metadata": {},
   "outputs": [
    {
     "name": "stderr",
     "output_type": "stream",
     "text": [
      "C:\\Users\\Faraz\\AppData\\Local\\Temp\\ipykernel_15316\\602581766.py:1: UserWarning: Parsing dates in DD/MM/YYYY format when dayfirst=False (the default) was specified. This may lead to inconsistently parsed dates! Specify a format to ensure consistent parsing.\n",
      "  df['Ship Date']=pd.to_datetime(df['Ship Date'])\n"
     ]
    }
   ],
   "source": [
    "df['Ship Date']=pd.to_datetime(df['Ship Date'])\n",
    "df['Order Date']=pd.to_datetime(df['Ship Date'])"
   ]
  },
  {
   "cell_type": "code",
   "execution_count": 22,
   "id": "6330bd2b",
   "metadata": {},
   "outputs": [
    {
     "data": {
      "text/plain": [
       "dtype('<M8[ns]')"
      ]
     },
     "execution_count": 22,
     "metadata": {},
     "output_type": "execute_result"
    }
   ],
   "source": [
    "df['Ship Date'].dtype\n",
    "df['Order Date'].dtype"
   ]
  },
  {
   "cell_type": "code",
   "execution_count": 23,
   "id": "b094f61b",
   "metadata": {
    "scrolled": false
   },
   "outputs": [
    {
     "data": {
      "text/plain": [
       "range(2011, 2015)"
      ]
     },
     "execution_count": 23,
     "metadata": {},
     "output_type": "execute_result"
    }
   ],
   "source": [
    "range(df['Ship Date'].dt.year.min(),df['Ship Date'].dt.year.max())"
   ]
  },
  {
   "cell_type": "code",
   "execution_count": 24,
   "id": "6c417eda",
   "metadata": {},
   "outputs": [],
   "source": [
    "split_ship_data={}\n",
    "\n",
    "for i in range(df['Ship Date'].dt.year.min(),df['Ship Date'].dt.year.max()+1):\n",
    "    split_ship_data[i]= df[df['Ship Date'].dt.year==i]"
   ]
  },
  {
   "cell_type": "code",
   "execution_count": 25,
   "id": "ad2e6e36",
   "metadata": {},
   "outputs": [
    {
     "data": {
      "text/plain": [
       "2015"
      ]
     },
     "execution_count": 25,
     "metadata": {},
     "output_type": "execute_result"
    }
   ],
   "source": [
    "df['Order Date'].dt.year.max()"
   ]
  },
  {
   "cell_type": "markdown",
   "id": "6e866fab",
   "metadata": {},
   "source": [
    "## 2011 Sales Analysis "
   ]
  },
  {
   "cell_type": "code",
   "execution_count": 26,
   "id": "d57c95e0",
   "metadata": {},
   "outputs": [
    {
     "data": {
      "text/plain": [
       "2011"
      ]
     },
     "execution_count": 26,
     "metadata": {},
     "output_type": "execute_result"
    }
   ],
   "source": [
    "sales2011=split_ship_data[2011]\n",
    "sales2011['Order Date'].dt.year.max()"
   ]
  },
  {
   "cell_type": "code",
   "execution_count": 45,
   "id": "2ddd7481",
   "metadata": {},
   "outputs": [
    {
     "data": {
      "text/html": [
       "<div>\n",
       "<style scoped>\n",
       "    .dataframe tbody tr th:only-of-type {\n",
       "        vertical-align: middle;\n",
       "    }\n",
       "\n",
       "    .dataframe tbody tr th {\n",
       "        vertical-align: top;\n",
       "    }\n",
       "\n",
       "    .dataframe thead th {\n",
       "        text-align: right;\n",
       "    }\n",
       "</style>\n",
       "<table border=\"1\" class=\"dataframe\">\n",
       "  <thead>\n",
       "    <tr style=\"text-align: right;\">\n",
       "      <th></th>\n",
       "      <th>Order ID</th>\n",
       "      <th>Order Date</th>\n",
       "      <th>Ship Date</th>\n",
       "      <th>Ship Mode</th>\n",
       "      <th>Customer ID</th>\n",
       "      <th>Customer Name</th>\n",
       "      <th>Segment</th>\n",
       "      <th>Country</th>\n",
       "      <th>City</th>\n",
       "      <th>State</th>\n",
       "      <th>Postal Code</th>\n",
       "      <th>Region</th>\n",
       "      <th>Product ID</th>\n",
       "      <th>Category</th>\n",
       "      <th>Sub-Category</th>\n",
       "      <th>Product Name</th>\n",
       "      <th>Sales</th>\n",
       "      <th>Quantity</th>\n",
       "      <th>Discount</th>\n",
       "      <th>Profit</th>\n",
       "    </tr>\n",
       "  </thead>\n",
       "  <tbody>\n",
       "    <tr>\n",
       "      <th>5</th>\n",
       "      <td>CA-2011-115812</td>\n",
       "      <td>2011-06-14</td>\n",
       "      <td>2011-06-14</td>\n",
       "      <td>Standard Class</td>\n",
       "      <td>BH-11710</td>\n",
       "      <td>Brosina Hoffman</td>\n",
       "      <td>Consumer</td>\n",
       "      <td>United States</td>\n",
       "      <td>Los Angeles</td>\n",
       "      <td>California</td>\n",
       "      <td>90032</td>\n",
       "      <td>West</td>\n",
       "      <td>FUR-FU-10001487</td>\n",
       "      <td>Furniture</td>\n",
       "      <td>Furnishings</td>\n",
       "      <td>Eldon Expressions Wood and Plastic Desk Access...</td>\n",
       "      <td>48.860</td>\n",
       "      <td>7</td>\n",
       "      <td>0.0</td>\n",
       "      <td>14.1694</td>\n",
       "    </tr>\n",
       "    <tr>\n",
       "      <th>6</th>\n",
       "      <td>CA-2011-115812</td>\n",
       "      <td>2011-06-14</td>\n",
       "      <td>2011-06-14</td>\n",
       "      <td>Standard Class</td>\n",
       "      <td>BH-11710</td>\n",
       "      <td>Brosina Hoffman</td>\n",
       "      <td>Consumer</td>\n",
       "      <td>United States</td>\n",
       "      <td>Los Angeles</td>\n",
       "      <td>California</td>\n",
       "      <td>90032</td>\n",
       "      <td>West</td>\n",
       "      <td>OFF-AR-10002833</td>\n",
       "      <td>Office Supplies</td>\n",
       "      <td>Art</td>\n",
       "      <td>Newell 322</td>\n",
       "      <td>7.280</td>\n",
       "      <td>4</td>\n",
       "      <td>0.0</td>\n",
       "      <td>1.9656</td>\n",
       "    </tr>\n",
       "    <tr>\n",
       "      <th>7</th>\n",
       "      <td>CA-2011-115812</td>\n",
       "      <td>2011-06-14</td>\n",
       "      <td>2011-06-14</td>\n",
       "      <td>Standard Class</td>\n",
       "      <td>BH-11710</td>\n",
       "      <td>Brosina Hoffman</td>\n",
       "      <td>Consumer</td>\n",
       "      <td>United States</td>\n",
       "      <td>Los Angeles</td>\n",
       "      <td>California</td>\n",
       "      <td>90032</td>\n",
       "      <td>West</td>\n",
       "      <td>TEC-PH-10002275</td>\n",
       "      <td>Technology</td>\n",
       "      <td>Phones</td>\n",
       "      <td>Mitel 5320 IP Phone VoIP phone</td>\n",
       "      <td>907.152</td>\n",
       "      <td>6</td>\n",
       "      <td>0.2</td>\n",
       "      <td>90.7152</td>\n",
       "    </tr>\n",
       "    <tr>\n",
       "      <th>8</th>\n",
       "      <td>CA-2011-115812</td>\n",
       "      <td>2011-06-14</td>\n",
       "      <td>2011-06-14</td>\n",
       "      <td>Standard Class</td>\n",
       "      <td>BH-11710</td>\n",
       "      <td>Brosina Hoffman</td>\n",
       "      <td>Consumer</td>\n",
       "      <td>United States</td>\n",
       "      <td>Los Angeles</td>\n",
       "      <td>California</td>\n",
       "      <td>90032</td>\n",
       "      <td>West</td>\n",
       "      <td>OFF-BI-10003910</td>\n",
       "      <td>Office Supplies</td>\n",
       "      <td>Binders</td>\n",
       "      <td>DXL Angle-View Binders with Locking Rings by S...</td>\n",
       "      <td>18.504</td>\n",
       "      <td>3</td>\n",
       "      <td>0.2</td>\n",
       "      <td>5.7825</td>\n",
       "    </tr>\n",
       "    <tr>\n",
       "      <th>9</th>\n",
       "      <td>CA-2011-115812</td>\n",
       "      <td>2011-06-14</td>\n",
       "      <td>2011-06-14</td>\n",
       "      <td>Standard Class</td>\n",
       "      <td>BH-11710</td>\n",
       "      <td>Brosina Hoffman</td>\n",
       "      <td>Consumer</td>\n",
       "      <td>United States</td>\n",
       "      <td>Los Angeles</td>\n",
       "      <td>California</td>\n",
       "      <td>90032</td>\n",
       "      <td>West</td>\n",
       "      <td>OFF-AP-10002892</td>\n",
       "      <td>Office Supplies</td>\n",
       "      <td>Appliances</td>\n",
       "      <td>Belkin F5C206VTEL 6 Outlet Surge</td>\n",
       "      <td>114.900</td>\n",
       "      <td>5</td>\n",
       "      <td>0.0</td>\n",
       "      <td>34.4700</td>\n",
       "    </tr>\n",
       "  </tbody>\n",
       "</table>\n",
       "</div>"
      ],
      "text/plain": [
       "         Order ID Order Date  Ship Date       Ship Mode Customer ID  \\\n",
       "5  CA-2011-115812 2011-06-14 2011-06-14  Standard Class    BH-11710   \n",
       "6  CA-2011-115812 2011-06-14 2011-06-14  Standard Class    BH-11710   \n",
       "7  CA-2011-115812 2011-06-14 2011-06-14  Standard Class    BH-11710   \n",
       "8  CA-2011-115812 2011-06-14 2011-06-14  Standard Class    BH-11710   \n",
       "9  CA-2011-115812 2011-06-14 2011-06-14  Standard Class    BH-11710   \n",
       "\n",
       "     Customer Name   Segment        Country         City       State  \\\n",
       "5  Brosina Hoffman  Consumer  United States  Los Angeles  California   \n",
       "6  Brosina Hoffman  Consumer  United States  Los Angeles  California   \n",
       "7  Brosina Hoffman  Consumer  United States  Los Angeles  California   \n",
       "8  Brosina Hoffman  Consumer  United States  Los Angeles  California   \n",
       "9  Brosina Hoffman  Consumer  United States  Los Angeles  California   \n",
       "\n",
       "   Postal Code Region       Product ID         Category Sub-Category  \\\n",
       "5        90032   West  FUR-FU-10001487        Furniture  Furnishings   \n",
       "6        90032   West  OFF-AR-10002833  Office Supplies          Art   \n",
       "7        90032   West  TEC-PH-10002275       Technology       Phones   \n",
       "8        90032   West  OFF-BI-10003910  Office Supplies      Binders   \n",
       "9        90032   West  OFF-AP-10002892  Office Supplies   Appliances   \n",
       "\n",
       "                                        Product Name    Sales  Quantity  \\\n",
       "5  Eldon Expressions Wood and Plastic Desk Access...   48.860         7   \n",
       "6                                         Newell 322    7.280         4   \n",
       "7                     Mitel 5320 IP Phone VoIP phone  907.152         6   \n",
       "8  DXL Angle-View Binders with Locking Rings by S...   18.504         3   \n",
       "9                   Belkin F5C206VTEL 6 Outlet Surge  114.900         5   \n",
       "\n",
       "   Discount   Profit  \n",
       "5       0.0  14.1694  \n",
       "6       0.0   1.9656  \n",
       "7       0.2  90.7152  \n",
       "8       0.2   5.7825  \n",
       "9       0.0  34.4700  "
      ]
     },
     "execution_count": 45,
     "metadata": {},
     "output_type": "execute_result"
    }
   ],
   "source": [
    "sales2011.head()"
   ]
  },
  {
   "cell_type": "code",
   "execution_count": 43,
   "id": "14f7d365",
   "metadata": {},
   "outputs": [
    {
     "data": {
      "text/html": [
       "<div>\n",
       "<style scoped>\n",
       "    .dataframe tbody tr th:only-of-type {\n",
       "        vertical-align: middle;\n",
       "    }\n",
       "\n",
       "    .dataframe tbody tr th {\n",
       "        vertical-align: top;\n",
       "    }\n",
       "\n",
       "    .dataframe thead th {\n",
       "        text-align: right;\n",
       "    }\n",
       "</style>\n",
       "<table border=\"1\" class=\"dataframe\">\n",
       "  <thead>\n",
       "    <tr style=\"text-align: right;\">\n",
       "      <th></th>\n",
       "      <th>Sub-Category</th>\n",
       "      <th>City</th>\n",
       "      <th>Sales</th>\n",
       "    </tr>\n",
       "  </thead>\n",
       "  <tbody>\n",
       "    <tr>\n",
       "      <th>625</th>\n",
       "      <td>Machines</td>\n",
       "      <td>Jacksonville</td>\n",
       "      <td>23459.780</td>\n",
       "    </tr>\n",
       "    <tr>\n",
       "      <th>628</th>\n",
       "      <td>Machines</td>\n",
       "      <td>New York City</td>\n",
       "      <td>13791.900</td>\n",
       "    </tr>\n",
       "    <tr>\n",
       "      <th>269</th>\n",
       "      <td>Binders</td>\n",
       "      <td>Minneapolis</td>\n",
       "      <td>9462.890</td>\n",
       "    </tr>\n",
       "    <tr>\n",
       "      <th>928</th>\n",
       "      <td>Supplies</td>\n",
       "      <td>San Francisco</td>\n",
       "      <td>8254.020</td>\n",
       "    </tr>\n",
       "    <tr>\n",
       "      <th>393</th>\n",
       "      <td>Chairs</td>\n",
       "      <td>New York City</td>\n",
       "      <td>8177.211</td>\n",
       "    </tr>\n",
       "  </tbody>\n",
       "</table>\n",
       "</div>"
      ],
      "text/plain": [
       "    Sub-Category           City      Sales\n",
       "625     Machines   Jacksonville  23459.780\n",
       "628     Machines  New York City  13791.900\n",
       "269      Binders    Minneapolis   9462.890\n",
       "928     Supplies  San Francisco   8254.020\n",
       "393       Chairs  New York City   8177.211"
      ]
     },
     "execution_count": 43,
     "metadata": {},
     "output_type": "execute_result"
    }
   ],
   "source": [
    "Subs_category_sales2011=sales2011.groupby(['Sub-Category','City'],as_index=False)['Sales'].sum().sort_values(by='Sales',ascending=False)\n",
    "Subs_category_sales2011.head()"
   ]
  },
  {
   "cell_type": "code",
   "execution_count": 42,
   "id": "a699ed75",
   "metadata": {},
   "outputs": [
    {
     "data": {
      "text/plain": [
       "<Axes: xlabel='Sub-Category', ylabel='Sales'>"
      ]
     },
     "execution_count": 42,
     "metadata": {},
     "output_type": "execute_result"
    },
    {
     "data": {
      "image/png": "[encoded data removed]",
      "text/plain": [
       "<Figure size 1080x360 with 1 Axes>"
      ]
     },
     "metadata": {},
     "output_type": "display_data"
    }
   ],
   "source": [
    "sns.barplot(x='Sub-Category',y='Sales',data=Subs_category_sales2011.head(),hue='City')"
   ]
  },
  {
   "cell_type": "code",
   "execution_count": 44,
   "id": "66f96355",
   "metadata": {},
   "outputs": [
    {
     "data": {
      "text/plain": [
       "<Axes: xlabel='Sub-Category', ylabel='Sales'>"
      ]
     },
     "execution_count": 44,
     "metadata": {},
     "output_type": "execute_result"
    },
    {
     "data": {
      "image/png": "[encoded data removed]",
      "text/plain": [
       "<Figure size 1080x360 with 1 Axes>"
      ]
     },
     "metadata": {},
     "output_type": "display_data"
    }
   ],
   "source": [
    "sns.barplot(x='Sub-Category',y='Sales',data=Subs_category_sales2011.tail(),hue='City')"
   ]
  },
  {
   "cell_type": "code",
   "execution_count": 52,
   "id": "6ad4c4c4",
   "metadata": {},
   "outputs": [
    {
     "data": {
      "text/html": [
       "<div>\n",
       "<style scoped>\n",
       "    .dataframe tbody tr th:only-of-type {\n",
       "        vertical-align: middle;\n",
       "    }\n",
       "\n",
       "    .dataframe tbody tr th {\n",
       "        vertical-align: top;\n",
       "    }\n",
       "\n",
       "    .dataframe thead th {\n",
       "        text-align: right;\n",
       "    }\n",
       "</style>\n",
       "<table border=\"1\" class=\"dataframe\">\n",
       "  <thead>\n",
       "    <tr style=\"text-align: right;\">\n",
       "      <th></th>\n",
       "      <th>Sub-Category</th>\n",
       "      <th>State</th>\n",
       "      <th>Sales</th>\n",
       "    </tr>\n",
       "  </thead>\n",
       "  <tbody>\n",
       "    <tr>\n",
       "      <th>285</th>\n",
       "      <td>Machines</td>\n",
       "      <td>Florida</td>\n",
       "      <td>23459.780</td>\n",
       "    </tr>\n",
       "    <tr>\n",
       "      <th>332</th>\n",
       "      <td>Phones</td>\n",
       "      <td>California</td>\n",
       "      <td>18635.624</td>\n",
       "    </tr>\n",
       "    <tr>\n",
       "      <th>292</th>\n",
       "      <td>Machines</td>\n",
       "      <td>Texas</td>\n",
       "      <td>15717.252</td>\n",
       "    </tr>\n",
       "    <tr>\n",
       "      <th>287</th>\n",
       "      <td>Machines</td>\n",
       "      <td>New York</td>\n",
       "      <td>13861.890</td>\n",
       "    </tr>\n",
       "    <tr>\n",
       "      <th>153</th>\n",
       "      <td>Chairs</td>\n",
       "      <td>California</td>\n",
       "      <td>13313.760</td>\n",
       "    </tr>\n",
       "  </tbody>\n",
       "</table>\n",
       "</div>"
      ],
      "text/plain": [
       "    Sub-Category       State      Sales\n",
       "285     Machines     Florida  23459.780\n",
       "332       Phones  California  18635.624\n",
       "292     Machines       Texas  15717.252\n",
       "287     Machines    New York  13861.890\n",
       "153       Chairs  California  13313.760"
      ]
     },
     "execution_count": 52,
     "metadata": {},
     "output_type": "execute_result"
    }
   ],
   "source": [
    "Subs_category_state_sales2011=sales2011.groupby(['Sub-Category','State'],as_index=False)['Sales'].sum().sort_values(by='Sales',ascending=False)\n",
    "Subs_category_state_sales2011.head()"
   ]
  },
  {
   "cell_type": "code",
   "execution_count": 55,
   "id": "2b3d33b1",
   "metadata": {},
   "outputs": [
    {
     "data": {
      "text/plain": [
       "<Axes: xlabel='Sub-Category', ylabel='Sales'>"
      ]
     },
     "execution_count": 55,
     "metadata": {},
     "output_type": "execute_result"
    },
    {
     "data": {
      "image/png": "[encoded data removed]",
      "text/plain": [
       "<Figure size 1080x360 with 1 Axes>"
      ]
     },
     "metadata": {},
     "output_type": "display_data"
    }
   ],
   "source": [
    "sns.barplot(x='Sub-Category',y='Sales',data=Subs_category_state_sales2011.head(),hue='State')"
   ]
  },
  {
   "cell_type": "code",
   "execution_count": 56,
   "id": "05cd6db1",
   "metadata": {},
   "outputs": [
    {
     "data": {
      "text/plain": [
       "<Axes: xlabel='Sub-Category', ylabel='Sales'>"
      ]
     },
     "execution_count": 56,
     "metadata": {},
     "output_type": "execute_result"
    },
    {
     "data": {
      "image/png": "[encoded data removed]",
      "text/plain": [
       "<Figure size 1080x360 with 1 Axes>"
      ]
     },
     "metadata": {},
     "output_type": "display_data"
    }
   ],
   "source": [
    "sns.barplot(x='Sub-Category',y='Sales',data=Subs_category_state_sales2011.tail(),hue='State')"
   ]
  },
  {
   "cell_type": "code",
   "execution_count": 49,
   "id": "7a29f820",
   "metadata": {
    "scrolled": true
   },
   "outputs": [
    {
     "data": {
      "text/html": [
       "<div>\n",
       "<style scoped>\n",
       "    .dataframe tbody tr th:only-of-type {\n",
       "        vertical-align: middle;\n",
       "    }\n",
       "\n",
       "    .dataframe tbody tr th {\n",
       "        vertical-align: top;\n",
       "    }\n",
       "\n",
       "    .dataframe thead th {\n",
       "        text-align: right;\n",
       "    }\n",
       "</style>\n",
       "<table border=\"1\" class=\"dataframe\">\n",
       "  <thead>\n",
       "    <tr style=\"text-align: right;\">\n",
       "      <th></th>\n",
       "      <th>State</th>\n",
       "      <th>Sales</th>\n",
       "    </tr>\n",
       "  </thead>\n",
       "  <tbody>\n",
       "    <tr>\n",
       "      <th>3</th>\n",
       "      <td>California</td>\n",
       "      <td>88236.0430</td>\n",
       "    </tr>\n",
       "    <tr>\n",
       "      <th>29</th>\n",
       "      <td>New York</td>\n",
       "      <td>62811.0610</td>\n",
       "    </tr>\n",
       "    <tr>\n",
       "      <th>39</th>\n",
       "      <td>Texas</td>\n",
       "      <td>49965.9946</td>\n",
       "    </tr>\n",
       "    <tr>\n",
       "      <th>7</th>\n",
       "      <td>Florida</td>\n",
       "      <td>34248.2605</td>\n",
       "    </tr>\n",
       "    <tr>\n",
       "      <th>42</th>\n",
       "      <td>Washington</td>\n",
       "      <td>29871.5760</td>\n",
       "    </tr>\n",
       "    <tr>\n",
       "      <th>41</th>\n",
       "      <td>Virginia</td>\n",
       "      <td>25802.0500</td>\n",
       "    </tr>\n",
       "    <tr>\n",
       "      <th>34</th>\n",
       "      <td>Pennsylvania</td>\n",
       "      <td>19442.4520</td>\n",
       "    </tr>\n",
       "    <tr>\n",
       "      <th>10</th>\n",
       "      <td>Illinois</td>\n",
       "      <td>16154.9950</td>\n",
       "    </tr>\n",
       "    <tr>\n",
       "      <th>20</th>\n",
       "      <td>Minnesota</td>\n",
       "      <td>15738.9700</td>\n",
       "    </tr>\n",
       "    <tr>\n",
       "      <th>31</th>\n",
       "      <td>Ohio</td>\n",
       "      <td>13834.3380</td>\n",
       "    </tr>\n",
       "    <tr>\n",
       "      <th>30</th>\n",
       "      <td>North Carolina</td>\n",
       "      <td>8620.7410</td>\n",
       "    </tr>\n",
       "    <tr>\n",
       "      <th>14</th>\n",
       "      <td>Kentucky</td>\n",
       "      <td>8280.4600</td>\n",
       "    </tr>\n",
       "    <tr>\n",
       "      <th>1</th>\n",
       "      <td>Arizona</td>\n",
       "      <td>7743.2500</td>\n",
       "    </tr>\n",
       "    <tr>\n",
       "      <th>18</th>\n",
       "      <td>Massachusetts</td>\n",
       "      <td>7139.7460</td>\n",
       "    </tr>\n",
       "    <tr>\n",
       "      <th>4</th>\n",
       "      <td>Colorado</td>\n",
       "      <td>6502.2940</td>\n",
       "    </tr>\n",
       "    <tr>\n",
       "      <th>2</th>\n",
       "      <td>Arkansas</td>\n",
       "      <td>6302.6900</td>\n",
       "    </tr>\n",
       "    <tr>\n",
       "      <th>19</th>\n",
       "      <td>Michigan</td>\n",
       "      <td>6162.4110</td>\n",
       "    </tr>\n",
       "    <tr>\n",
       "      <th>0</th>\n",
       "      <td>Alabama</td>\n",
       "      <td>5617.1700</td>\n",
       "    </tr>\n",
       "    <tr>\n",
       "      <th>43</th>\n",
       "      <td>Wisconsin</td>\n",
       "      <td>4847.7100</td>\n",
       "    </tr>\n",
       "    <tr>\n",
       "      <th>33</th>\n",
       "      <td>Oregon</td>\n",
       "      <td>4807.7830</td>\n",
       "    </tr>\n",
       "    <tr>\n",
       "      <th>6</th>\n",
       "      <td>Delaware</td>\n",
       "      <td>4786.0300</td>\n",
       "    </tr>\n",
       "    <tr>\n",
       "      <th>8</th>\n",
       "      <td>Georgia</td>\n",
       "      <td>4540.1000</td>\n",
       "    </tr>\n",
       "    <tr>\n",
       "      <th>27</th>\n",
       "      <td>New Jersey</td>\n",
       "      <td>4192.2800</td>\n",
       "    </tr>\n",
       "    <tr>\n",
       "      <th>38</th>\n",
       "      <td>Tennessee</td>\n",
       "      <td>3012.3840</td>\n",
       "    </tr>\n",
       "    <tr>\n",
       "      <th>40</th>\n",
       "      <td>Utah</td>\n",
       "      <td>2943.6880</td>\n",
       "    </tr>\n",
       "    <tr>\n",
       "      <th>11</th>\n",
       "      <td>Indiana</td>\n",
       "      <td>2936.8100</td>\n",
       "    </tr>\n",
       "    <tr>\n",
       "      <th>5</th>\n",
       "      <td>Connecticut</td>\n",
       "      <td>2794.0200</td>\n",
       "    </tr>\n",
       "    <tr>\n",
       "      <th>32</th>\n",
       "      <td>Oklahoma</td>\n",
       "      <td>2639.3500</td>\n",
       "    </tr>\n",
       "    <tr>\n",
       "      <th>25</th>\n",
       "      <td>Nevada</td>\n",
       "      <td>2561.2100</td>\n",
       "    </tr>\n",
       "    <tr>\n",
       "      <th>15</th>\n",
       "      <td>Louisiana</td>\n",
       "      <td>2534.9200</td>\n",
       "    </tr>\n",
       "    <tr>\n",
       "      <th>36</th>\n",
       "      <td>South Carolina</td>\n",
       "      <td>2270.8600</td>\n",
       "    </tr>\n",
       "    <tr>\n",
       "      <th>35</th>\n",
       "      <td>Rhode Island</td>\n",
       "      <td>2169.4660</td>\n",
       "    </tr>\n",
       "    <tr>\n",
       "      <th>21</th>\n",
       "      <td>Mississippi</td>\n",
       "      <td>2055.1600</td>\n",
       "    </tr>\n",
       "    <tr>\n",
       "      <th>17</th>\n",
       "      <td>Maryland</td>\n",
       "      <td>1701.2500</td>\n",
       "    </tr>\n",
       "    <tr>\n",
       "      <th>22</th>\n",
       "      <td>Missouri</td>\n",
       "      <td>1570.8200</td>\n",
       "    </tr>\n",
       "    <tr>\n",
       "      <th>13</th>\n",
       "      <td>Kansas</td>\n",
       "      <td>1319.7900</td>\n",
       "    </tr>\n",
       "    <tr>\n",
       "      <th>12</th>\n",
       "      <td>Iowa</td>\n",
       "      <td>1190.8400</td>\n",
       "    </tr>\n",
       "    <tr>\n",
       "      <th>28</th>\n",
       "      <td>New Mexico</td>\n",
       "      <td>650.7460</td>\n",
       "    </tr>\n",
       "    <tr>\n",
       "      <th>16</th>\n",
       "      <td>Maine</td>\n",
       "      <td>617.1200</td>\n",
       "    </tr>\n",
       "    <tr>\n",
       "      <th>26</th>\n",
       "      <td>New Hampshire</td>\n",
       "      <td>504.4800</td>\n",
       "    </tr>\n",
       "    <tr>\n",
       "      <th>9</th>\n",
       "      <td>Idaho</td>\n",
       "      <td>465.2160</td>\n",
       "    </tr>\n",
       "    <tr>\n",
       "      <th>23</th>\n",
       "      <td>Montana</td>\n",
       "      <td>424.4880</td>\n",
       "    </tr>\n",
       "    <tr>\n",
       "      <th>24</th>\n",
       "      <td>Nebraska</td>\n",
       "      <td>210.0200</td>\n",
       "    </tr>\n",
       "    <tr>\n",
       "      <th>37</th>\n",
       "      <td>South Dakota</td>\n",
       "      <td>162.1500</td>\n",
       "    </tr>\n",
       "  </tbody>\n",
       "</table>\n",
       "</div>"
      ],
      "text/plain": [
       "             State       Sales\n",
       "3       California  88236.0430\n",
       "29        New York  62811.0610\n",
       "39           Texas  49965.9946\n",
       "7          Florida  34248.2605\n",
       "42      Washington  29871.5760\n",
       "41        Virginia  25802.0500\n",
       "34    Pennsylvania  19442.4520\n",
       "10        Illinois  16154.9950\n",
       "20       Minnesota  15738.9700\n",
       "31            Ohio  13834.3380\n",
       "30  North Carolina   8620.7410\n",
       "14        Kentucky   8280.4600\n",
       "1          Arizona   7743.2500\n",
       "18   Massachusetts   7139.7460\n",
       "4         Colorado   6502.2940\n",
       "2         Arkansas   6302.6900\n",
       "19        Michigan   6162.4110\n",
       "0          Alabama   5617.1700\n",
       "43       Wisconsin   4847.7100\n",
       "33          Oregon   4807.7830\n",
       "6         Delaware   4786.0300\n",
       "8          Georgia   4540.1000\n",
       "27      New Jersey   4192.2800\n",
       "38       Tennessee   3012.3840\n",
       "40            Utah   2943.6880\n",
       "11         Indiana   2936.8100\n",
       "5      Connecticut   2794.0200\n",
       "32        Oklahoma   2639.3500\n",
       "25          Nevada   2561.2100\n",
       "15       Louisiana   2534.9200\n",
       "36  South Carolina   2270.8600\n",
       "35    Rhode Island   2169.4660\n",
       "21     Mississippi   2055.1600\n",
       "17        Maryland   1701.2500\n",
       "22        Missouri   1570.8200\n",
       "13          Kansas   1319.7900\n",
       "12            Iowa   1190.8400\n",
       "28      New Mexico    650.7460\n",
       "16           Maine    617.1200\n",
       "26   New Hampshire    504.4800\n",
       "9            Idaho    465.2160\n",
       "23         Montana    424.4880\n",
       "24        Nebraska    210.0200\n",
       "37    South Dakota    162.1500"
      ]
     },
     "execution_count": 49,
     "metadata": {},
     "output_type": "execute_result"
    }
   ],
   "source": [
    "State_wise_sales2011=sales2011.groupby(['State'],as_index=False)['Sales'].sum().sort_values(by='Sales',ascending=False)\n",
    "State_wise_sales2011"
   ]
  },
  {
   "cell_type": "code",
   "execution_count": 48,
   "id": "8c2fd102",
   "metadata": {},
   "outputs": [
    {
     "data": {
      "text/plain": [
       "<Axes: xlabel='State', ylabel='Sales'>"
      ]
     },
     "execution_count": 48,
     "metadata": {},
     "output_type": "execute_result"
    },
    {
     "data": {
      "image/png": "[encoded data removed]",
      "text/plain": [
       "<Figure size 1080x360 with 1 Axes>"
      ]
     },
     "metadata": {},
     "output_type": "display_data"
    }
   ],
   "source": [
    "sns.barplot(x='State',y='Sales',data=State_wise_sales2011.head())"
   ]
  },
  {
   "cell_type": "code",
   "execution_count": 50,
   "id": "f25148a0",
   "metadata": {},
   "outputs": [
    {
     "data": {
      "text/plain": [
       "<Axes: xlabel='State', ylabel='Sales'>"
      ]
     },
     "execution_count": 50,
     "metadata": {},
     "output_type": "execute_result"
    },
    {
     "data": {
      "image/png": "[encoded data removed]",
      "text/plain": [
       "<Figure size 1080x360 with 1 Axes>"
      ]
     },
     "metadata": {},
     "output_type": "display_data"
    }
   ],
   "source": [
    "sns.barplot(x='State',y='Sales',data=State_wise_sales2011.tail())"
   ]
  },
  {
   "cell_type": "code",
   "execution_count": 61,
   "id": "0009e7fd",
   "metadata": {},
   "outputs": [
    {
     "data": {
      "text/html": [
       "<div>\n",
       "<style scoped>\n",
       "    .dataframe tbody tr th:only-of-type {\n",
       "        vertical-align: middle;\n",
       "    }\n",
       "\n",
       "    .dataframe tbody tr th {\n",
       "        vertical-align: top;\n",
       "    }\n",
       "\n",
       "    .dataframe thead th {\n",
       "        text-align: right;\n",
       "    }\n",
       "</style>\n",
       "<table border=\"1\" class=\"dataframe\">\n",
       "  <thead>\n",
       "    <tr style=\"text-align: right;\">\n",
       "      <th></th>\n",
       "      <th>Category</th>\n",
       "      <th>Sales</th>\n",
       "    </tr>\n",
       "  </thead>\n",
       "  <tbody>\n",
       "    <tr>\n",
       "      <th>2</th>\n",
       "      <td>Technology</td>\n",
       "      <td>170598.2150</td>\n",
       "    </tr>\n",
       "    <tr>\n",
       "      <th>0</th>\n",
       "      <td>Furniture</td>\n",
       "      <td>153528.7571</td>\n",
       "    </tr>\n",
       "    <tr>\n",
       "      <th>1</th>\n",
       "      <td>Office Supplies</td>\n",
       "      <td>146256.2210</td>\n",
       "    </tr>\n",
       "  </tbody>\n",
       "</table>\n",
       "</div>"
      ],
      "text/plain": [
       "          Category        Sales\n",
       "2       Technology  170598.2150\n",
       "0        Furniture  153528.7571\n",
       "1  Office Supplies  146256.2210"
      ]
     },
     "execution_count": 61,
     "metadata": {},
     "output_type": "execute_result"
    }
   ],
   "source": [
    "Category_sales2011=sales2011.groupby(['Category'],as_index=False)['Sales'].sum().sort_values(by='Sales',ascending=False)\n",
    "Category_sales2011"
   ]
  },
  {
   "cell_type": "code",
   "execution_count": 63,
   "id": "da2422de",
   "metadata": {},
   "outputs": [
    {
     "data": {
      "image/png": "[encoded data removed]",
      "text/plain": [
       "<Figure size 1080x360 with 1 Axes>"
      ]
     },
     "metadata": {},
     "output_type": "display_data"
    }
   ],
   "source": [
    "er=sns.barplot(x='Category',y='Sales',data=Category_sales2011)\n",
    "\n",
    "for bars in er.containers:\n",
    "    er.bar_label(bars)"
   ]
  },
  {
   "cell_type": "code",
   "execution_count": 65,
   "id": "a33a187d",
   "metadata": {},
   "outputs": [
    {
     "data": {
      "text/html": [
       "<div>\n",
       "<style scoped>\n",
       "    .dataframe tbody tr th:only-of-type {\n",
       "        vertical-align: middle;\n",
       "    }\n",
       "\n",
       "    .dataframe tbody tr th {\n",
       "        vertical-align: top;\n",
       "    }\n",
       "\n",
       "    .dataframe thead th {\n",
       "        text-align: right;\n",
       "    }\n",
       "</style>\n",
       "<table border=\"1\" class=\"dataframe\">\n",
       "  <thead>\n",
       "    <tr style=\"text-align: right;\">\n",
       "      <th></th>\n",
       "      <th>Category</th>\n",
       "      <th>City</th>\n",
       "      <th>Sales</th>\n",
       "    </tr>\n",
       "  </thead>\n",
       "  <tbody>\n",
       "    <tr>\n",
       "      <th>421</th>\n",
       "      <td>Technology</td>\n",
       "      <td>Jacksonville</td>\n",
       "      <td>23803.548</td>\n",
       "    </tr>\n",
       "    <tr>\n",
       "      <th>447</th>\n",
       "      <td>Technology</td>\n",
       "      <td>New York City</td>\n",
       "      <td>21569.292</td>\n",
       "    </tr>\n",
       "    <tr>\n",
       "      <th>337</th>\n",
       "      <td>Office Supplies</td>\n",
       "      <td>San Francisco</td>\n",
       "      <td>15317.262</td>\n",
       "    </tr>\n",
       "    <tr>\n",
       "      <th>98</th>\n",
       "      <td>Furniture</td>\n",
       "      <td>New York City</td>\n",
       "      <td>14736.437</td>\n",
       "    </tr>\n",
       "    <tr>\n",
       "      <th>344</th>\n",
       "      <td>Office Supplies</td>\n",
       "      <td>Seattle</td>\n",
       "      <td>11365.154</td>\n",
       "    </tr>\n",
       "    <tr>\n",
       "      <th>...</th>\n",
       "      <td>...</td>\n",
       "      <td>...</td>\n",
       "      <td>...</td>\n",
       "    </tr>\n",
       "    <tr>\n",
       "      <th>316</th>\n",
       "      <td>Office Supplies</td>\n",
       "      <td>Raleigh</td>\n",
       "      <td>4.624</td>\n",
       "    </tr>\n",
       "    <tr>\n",
       "      <th>165</th>\n",
       "      <td>Office Supplies</td>\n",
       "      <td>Boca Raton</td>\n",
       "      <td>4.608</td>\n",
       "    </tr>\n",
       "    <tr>\n",
       "      <th>428</th>\n",
       "      <td>Technology</td>\n",
       "      <td>Lancaster</td>\n",
       "      <td>3.152</td>\n",
       "    </tr>\n",
       "    <tr>\n",
       "      <th>479</th>\n",
       "      <td>Technology</td>\n",
       "      <td>Sioux Falls</td>\n",
       "      <td>2.970</td>\n",
       "    </tr>\n",
       "    <tr>\n",
       "      <th>267</th>\n",
       "      <td>Office Supplies</td>\n",
       "      <td>Marion</td>\n",
       "      <td>2.624</td>\n",
       "    </tr>\n",
       "  </tbody>\n",
       "</table>\n",
       "<p>495 rows × 3 columns</p>\n",
       "</div>"
      ],
      "text/plain": [
       "            Category           City      Sales\n",
       "421       Technology   Jacksonville  23803.548\n",
       "447       Technology  New York City  21569.292\n",
       "337  Office Supplies  San Francisco  15317.262\n",
       "98         Furniture  New York City  14736.437\n",
       "344  Office Supplies        Seattle  11365.154\n",
       "..               ...            ...        ...\n",
       "316  Office Supplies        Raleigh      4.624\n",
       "165  Office Supplies     Boca Raton      4.608\n",
       "428       Technology      Lancaster      3.152\n",
       "479       Technology    Sioux Falls      2.970\n",
       "267  Office Supplies         Marion      2.624\n",
       "\n",
       "[495 rows x 3 columns]"
      ]
     },
     "execution_count": 65,
     "metadata": {},
     "output_type": "execute_result"
    }
   ],
   "source": [
    "Category_byCity_sales2011=sales2011.groupby(['Category','City'],as_index=False)['Sales'].sum().sort_values(by='Sales',ascending=False)\n",
    "Category_byCity_sales2011"
   ]
  },
  {
   "cell_type": "code",
   "execution_count": 69,
   "id": "a453dfee",
   "metadata": {},
   "outputs": [
    {
     "data": {
      "image/png": "[encoded data removed]",
      "text/plain": [
       "<Figure size 1080x360 with 1 Axes>"
      ]
     },
     "metadata": {},
     "output_type": "display_data"
    }
   ],
   "source": [
    "eq=sns.barplot(x='Category',y='Sales',data=Category_byCity_sales2011.head(10),hue='City')\n",
    "\n",
    "for bars in eq.containers:\n",
    "    eq.bar_label(bars)"
   ]
  },
  {
   "cell_type": "code",
   "execution_count": 77,
   "id": "de2b9806",
   "metadata": {},
   "outputs": [
    {
     "data": {
      "application/vnd.plotly.v1+json": {
       "config": {
        "plotlyServerURL": "https://plot.ly"
       },
       "data": [
        {
         "alignmentgroup": "True",
         "hovertemplate": "Category=%{x}<br>Sales=%{y}<extra></extra>",
         "legendgroup": "",
         "marker": {
          "color": "#636efa",
          "pattern": {
           "shape": ""
          }
         },
         "name": "",
         "offsetgroup": "",
         "orientation": "v",
         "showlegend": false,
         "textposition": "auto",
         "type": "bar",
         "x": [
          "Technology",
          "Technology",
          "Office Supplies",
          "Furniture",
          "Office Supplies",
          "Technology",
          "Office Supplies",
          "Furniture",
          "Technology",
          "Technology",
          "Furniture",
          "Technology",
          "Office Supplies",
          "Office Supplies",
          "Office Supplies",
          "Furniture",
          "Furniture",
          "Furniture",
          "Technology",
          "Furniture",
          "Technology",
          "Office Supplies",
          "Technology",
          "Furniture",
          "Technology",
          "Furniture",
          "Furniture",
          "Technology",
          "Office Supplies",
          "Technology",
          "Office Supplies",
          "Office Supplies",
          "Office Supplies",
          "Office Supplies",
          "Furniture",
          "Furniture",
          "Office Supplies",
          "Furniture",
          "Furniture",
          "Furniture",
          "Furniture",
          "Office Supplies",
          "Technology",
          "Technology",
          "Technology",
          "Office Supplies",
          "Technology",
          "Technology",
          "Furniture",
          "Furniture",
          "Office Supplies",
          "Furniture",
          "Office Supplies",
          "Furniture",
          "Office Supplies",
          "Office Supplies",
          "Furniture",
          "Furniture",
          "Furniture",
          "Office Supplies",
          "Furniture",
          "Furniture",
          "Office Supplies",
          "Technology",
          "Furniture",
          "Office Supplies",
          "Technology",
          "Technology",
          "Furniture",
          "Office Supplies",
          "Technology",
          "Technology",
          "Office Supplies",
          "Furniture",
          "Furniture",
          "Technology",
          "Furniture",
          "Technology",
          "Furniture",
          "Furniture",
          "Technology",
          "Technology",
          "Furniture",
          "Technology",
          "Office Supplies",
          "Furniture",
          "Furniture",
          "Technology",
          "Technology",
          "Furniture",
          "Furniture",
          "Technology",
          "Furniture",
          "Office Supplies",
          "Office Supplies",
          "Office Supplies",
          "Furniture",
          "Furniture",
          "Technology",
          "Furniture",
          "Furniture",
          "Technology",
          "Office Supplies",
          "Office Supplies",
          "Office Supplies",
          "Furniture",
          "Furniture",
          "Furniture",
          "Furniture",
          "Furniture",
          "Technology",
          "Office Supplies",
          "Office Supplies",
          "Office Supplies",
          "Technology",
          "Furniture",
          "Furniture",
          "Office Supplies",
          "Technology",
          "Technology",
          "Technology",
          "Furniture",
          "Technology",
          "Office Supplies",
          "Office Supplies",
          "Technology",
          "Office Supplies",
          "Technology",
          "Technology",
          "Technology",
          "Technology",
          "Furniture",
          "Furniture",
          "Technology",
          "Office Supplies",
          "Furniture",
          "Office Supplies",
          "Technology",
          "Office Supplies",
          "Office Supplies",
          "Office Supplies",
          "Technology",
          "Office Supplies",
          "Office Supplies",
          "Furniture",
          "Furniture",
          "Technology",
          "Office Supplies",
          "Furniture",
          "Office Supplies",
          "Technology",
          "Technology",
          "Furniture",
          "Technology",
          "Office Supplies",
          "Furniture",
          "Furniture",
          "Furniture",
          "Office Supplies",
          "Technology",
          "Technology",
          "Office Supplies",
          "Office Supplies",
          "Furniture",
          "Technology",
          "Furniture",
          "Furniture",
          "Office Supplies",
          "Technology",
          "Furniture",
          "Furniture",
          "Furniture",
          "Office Supplies",
          "Technology",
          "Furniture",
          "Furniture",
          "Technology",
          "Technology",
          "Furniture",
          "Furniture",
          "Technology",
          "Technology",
          "Office Supplies",
          "Office Supplies",
          "Technology",
          "Technology",
          "Technology",
          "Technology",
          "Furniture",
          "Office Supplies",
          "Technology",
          "Office Supplies",
          "Furniture",
          "Office Supplies",
          "Technology",
          "Technology",
          "Technology",
          "Office Supplies",
          "Technology",
          "Office Supplies",
          "Office Supplies",
          "Office Supplies",
          "Technology",
          "Technology",
          "Furniture",
          "Office Supplies",
          "Furniture",
          "Office Supplies",
          "Office Supplies",
          "Furniture",
          "Furniture",
          "Furniture",
          "Technology",
          "Furniture",
          "Technology",
          "Office Supplies",
          "Office Supplies",
          "Office Supplies",
          "Office Supplies",
          "Office Supplies",
          "Furniture",
          "Office Supplies",
          "Office Supplies",
          "Technology",
          "Technology",
          "Furniture",
          "Office Supplies",
          "Furniture",
          "Office Supplies",
          "Furniture",
          "Office Supplies",
          "Furniture",
          "Technology",
          "Technology",
          "Technology",
          "Office Supplies",
          "Office Supplies",
          "Technology",
          "Technology",
          "Furniture",
          "Technology",
          "Office Supplies",
          "Office Supplies",
          "Furniture",
          "Technology",
          "Office Supplies",
          "Technology",
          "Furniture",
          "Technology",
          "Office Supplies",
          "Office Supplies",
          "Technology",
          "Furniture",
          "Office Supplies",
          "Technology",
          "Furniture",
          "Office Supplies",
          "Office Supplies",
          "Furniture",
          "Furniture",
          "Furniture",
          "Office Supplies",
          "Technology",
          "Furniture",
          "Office Supplies",
          "Office Supplies",
          "Furniture",
          "Technology",
          "Office Supplies",
          "Furniture",
          "Office Supplies",
          "Office Supplies",
          "Office Supplies",
          "Technology",
          "Furniture",
          "Technology",
          "Office Supplies",
          "Office Supplies",
          "Office Supplies",
          "Furniture",
          "Office Supplies",
          "Furniture",
          "Office Supplies",
          "Office Supplies",
          "Furniture",
          "Office Supplies",
          "Furniture",
          "Technology",
          "Office Supplies",
          "Technology",
          "Office Supplies",
          "Technology",
          "Office Supplies",
          "Office Supplies",
          "Office Supplies",
          "Office Supplies",
          "Technology",
          "Technology",
          "Furniture",
          "Furniture",
          "Office Supplies",
          "Office Supplies",
          "Office Supplies",
          "Furniture",
          "Office Supplies",
          "Furniture",
          "Furniture",
          "Furniture",
          "Office Supplies",
          "Office Supplies",
          "Office Supplies",
          "Furniture",
          "Furniture",
          "Office Supplies",
          "Technology",
          "Furniture",
          "Furniture",
          "Office Supplies",
          "Technology",
          "Furniture",
          "Office Supplies",
          "Furniture",
          "Office Supplies",
          "Technology",
          "Office Supplies",
          "Office Supplies",
          "Technology",
          "Office Supplies",
          "Office Supplies",
          "Technology",
          "Technology",
          "Furniture",
          "Office Supplies",
          "Furniture",
          "Office Supplies",
          "Office Supplies",
          "Office Supplies",
          "Technology",
          "Furniture",
          "Office Supplies",
          "Technology",
          "Technology",
          "Office Supplies",
          "Technology",
          "Furniture",
          "Office Supplies",
          "Office Supplies",
          "Technology",
          "Office Supplies",
          "Technology",
          "Furniture",
          "Office Supplies",
          "Technology",
          "Technology",
          "Office Supplies",
          "Office Supplies",
          "Office Supplies",
          "Office Supplies",
          "Furniture",
          "Technology",
          "Furniture",
          "Furniture",
          "Office Supplies",
          "Office Supplies",
          "Technology",
          "Office Supplies",
          "Office Supplies",
          "Furniture",
          "Office Supplies",
          "Technology",
          "Office Supplies",
          "Furniture",
          "Office Supplies",
          "Office Supplies",
          "Furniture",
          "Technology",
          "Office Supplies",
          "Office Supplies",
          "Furniture",
          "Office Supplies",
          "Office Supplies",
          "Office Supplies",
          "Office Supplies",
          "Technology",
          "Office Supplies",
          "Office Supplies",
          "Office Supplies",
          "Furniture",
          "Furniture",
          "Office Supplies",
          "Furniture",
          "Office Supplies",
          "Office Supplies",
          "Office Supplies",
          "Office Supplies",
          "Office Supplies",
          "Furniture",
          "Technology",
          "Office Supplies",
          "Technology",
          "Office Supplies",
          "Furniture",
          "Office Supplies",
          "Office Supplies",
          "Technology",
          "Office Supplies",
          "Office Supplies",
          "Office Supplies",
          "Office Supplies",
          "Office Supplies",
          "Furniture",
          "Office Supplies",
          "Office Supplies",
          "Furniture",
          "Technology",
          "Furniture",
          "Furniture",
          "Office Supplies",
          "Technology",
          "Office Supplies",
          "Office Supplies",
          "Office Supplies",
          "Furniture",
          "Furniture",
          "Furniture",
          "Office Supplies",
          "Furniture",
          "Office Supplies",
          "Office Supplies",
          "Furniture",
          "Office Supplies",
          "Furniture",
          "Office Supplies",
          "Office Supplies",
          "Office Supplies",
          "Technology",
          "Furniture",
          "Technology",
          "Office Supplies",
          "Office Supplies",
          "Office Supplies",
          "Office Supplies",
          "Office Supplies",
          "Office Supplies",
          "Office Supplies",
          "Furniture",
          "Office Supplies",
          "Office Supplies",
          "Office Supplies",
          "Office Supplies",
          "Office Supplies",
          "Technology",
          "Office Supplies",
          "Furniture",
          "Office Supplies",
          "Office Supplies",
          "Office Supplies",
          "Office Supplies",
          "Office Supplies",
          "Office Supplies",
          "Office Supplies",
          "Office Supplies",
          "Furniture",
          "Office Supplies",
          "Office Supplies",
          "Office Supplies",
          "Office Supplies",
          "Office Supplies",
          "Furniture",
          "Office Supplies",
          "Office Supplies",
          "Furniture",
          "Furniture",
          "Furniture",
          "Office Supplies",
          "Office Supplies",
          "Office Supplies",
          "Office Supplies",
          "Office Supplies",
          "Office Supplies",
          "Office Supplies",
          "Office Supplies",
          "Office Supplies",
          "Furniture",
          "Technology",
          "Office Supplies",
          "Technology",
          "Office Supplies",
          "Office Supplies",
          "Office Supplies",
          "Office Supplies",
          "Office Supplies",
          "Technology",
          "Technology",
          "Office Supplies"
         ],
         "xaxis": "x",
         "y": [
          23803.548,
          21569.292,
          15317.261999999999,
          14736.437,
          11365.154,
          11175.896,
          10631.09,
          10184.2525,
          8735.064,
          8125.972,
          8100.92,
          7824.45,
          7651.4220000000005,
          7522.548,
          6728.631,
          6233.05,
          5710.423,
          5644.77,
          5448.417,
          5281.452,
          5253.582,
          4773.530000000001,
          4708.79,
          4670.9905,
          4286.905,
          4271.622,
          4140.88,
          4065.9199999999996,
          3924.718,
          3627.2970000000005,
          3341.7419999999997,
          3100.534,
          2972.584,
          2865.29,
          2807.84,
          2783.287,
          2690.454,
          2573.82,
          2441.52,
          2424.756,
          2396.1400000000003,
          2363.582,
          2351.536,
          2292.898,
          2158.864,
          2152.776,
          2127.608,
          2046.354,
          2023.016,
          2001.86,
          1993.6899999999998,
          1981.47,
          1930.5539999999999,
          1919.538,
          1910.37,
          1856.19,
          1819.86,
          1790.29,
          1745.3600000000001,
          1726.074,
          1687.818,
          1663.964,
          1653.06,
          1644.482,
          1628.82,
          1606.056,
          1574.952,
          1547.8719999999998,
          1524.632,
          1518.4899999999998,
          1513.456,
          1502.376,
          1494,
          1487.04,
          1471.43,
          1432,
          1421.664,
          1394.95,
          1346.256,
          1314.7600000000002,
          1301.46,
          1299.99,
          1298.55,
          1279.968,
          1254.04,
          1249.096,
          1224.831,
          1221.8899999999999,
          1214.85,
          1189.0819999999999,
          1184.72,
          1147.94,
          1133.35,
          1119.09,
          1113.024,
          1111.312,
          1092.996,
          1083.9066,
          1082.954,
          1066.59,
          1066.5700000000002,
          1049.93,
          1041.864,
          1040.15,
          1029.933,
          1029.216,
          1025.88,
          1023.9879999999999,
          1023.444,
          975.92,
          974.2,
          917.11,
          909.827,
          885.9889999999999,
          878.848,
          872.08,
          860.322,
          851.722,
          849.97,
          844.576,
          842.5179999999999,
          841.54,
          799.92,
          795.5999999999999,
          782.72,
          779.796,
          770.61,
          758.352,
          756.7360000000001,
          752.84,
          750.98,
          749.9,
          749.12,
          743.19,
          727.87,
          724.76,
          712.52,
          699.93,
          692.98,
          689.89,
          684.6320000000001,
          682.91,
          665.912,
          651.07,
          650.14,
          647.84,
          646.74,
          640.52,
          634.116,
          632.9060000000001,
          620.384,
          617.97,
          617.7,
          616.6479999999999,
          614.756,
          605.34,
          603.92,
          591.32,
          590.6080000000001,
          590.196,
          589.674,
          586.302,
          583.504,
          579.918,
          575.92,
          563.94,
          561.584,
          560.49,
          555.936,
          545.94,
          545.928,
          545.88,
          540.08,
          519.904,
          512.358,
          489.23,
          479.97,
          479.96,
          479.9,
          478.48,
          475.944,
          475.944,
          475.41999999999996,
          473.58,
          468.9,
          447.944,
          439.944,
          438.336,
          433.568,
          423.28,
          420.55999999999995,
          411.66999999999996,
          409.59,
          407.43999999999994,
          399.96,
          399.96,
          389.91999999999996,
          384.612,
          372.32,
          365.5,
          362.176,
          361.7,
          359.98,
          359.344,
          355.455,
          347.64,
          342.864,
          341,
          340.613,
          340.116,
          338.352,
          337.088,
          333.576,
          332.924,
          323.024,
          322.12,
          321.978,
          317.48,
          315.94,
          310.36,
          308.499,
          306.2,
          302.89,
          302.376,
          302.376,
          300.56,
          291.474,
          290.666,
          290.64000000000004,
          288.83000000000004,
          288.06,
          287.67,
          284.82,
          281.97,
          279.96,
          276.664,
          275.176,
          273.96,
          272.61,
          272.47,
          271.9,
          270.89,
          270.72,
          268.935,
          267.96,
          264.32,
          263.96,
          258.279,
          257.98,
          257.752,
          255.85,
          255.42,
          254.9,
          254.476,
          251.944,
          245.98,
          243.824,
          243.60000000000002,
          240.912,
          232.73600000000002,
          228.978,
          225.44,
          223.96,
          222.974,
          221.16,
          220.596,
          218.41,
          215.94,
          213.394,
          207.27800000000002,
          206.668,
          206.49,
          205.875,
          200.97,
          199.3065,
          197.97,
          197.54,
          197.476,
          191.6,
          190.848,
          190.144,
          186.304,
          184.79000000000002,
          183.52,
          183.372,
          182.94,
          181.47,
          177,
          172.85,
          167.968,
          166.44,
          164.85,
          162.48,
          161.92000000000002,
          160.03,
          156.786,
          155.976,
          149.97,
          149.8,
          149.232,
          147.344,
          145.93,
          144.83,
          142.4,
          142.128,
          141.96,
          136.53,
          134.832,
          134.67000000000002,
          131.84,
          129.964,
          129.92,
          129.888,
          129.3,
          127.984,
          127.95,
          127.302,
          126.786,
          125.94999999999999,
          122.352,
          121.608,
          121.376,
          117.28,
          116.85,
          116.14,
          115.952,
          115.36,
          114.4,
          113.768,
          111.93,
          111.79,
          111,
          109.86,
          108.28,
          107.69,
          106.15199999999999,
          105.43,
          104.85,
          104.01,
          100.704,
          99.98,
          99.98,
          97.2,
          95.976,
          93.59,
          93.49,
          93.176,
          92.52,
          91.68,
          88.776,
          85.98,
          84.07000000000001,
          82.8,
          82.782,
          81.92,
          81.88000000000001,
          79.45,
          77.32799999999999,
          75.24,
          73.98,
          73.915,
          73.32,
          73.19999999999999,
          73.092,
          72.462,
          71.538,
          71.188,
          70.71,
          70.032,
          69.99,
          69.216,
          68.704,
          67.75999999999999,
          67.194,
          66.112,
          65.44,
          63.264,
          62.495999999999995,
          60.672,
          59.808,
          59.584,
          59.109,
          58.32,
          57.4,
          55.809999999999995,
          55.672,
          55.5,
          53.88,
          52.96,
          52.93,
          51.96,
          51.184,
          49.792,
          48.4,
          47.992,
          45.68,
          44.128,
          43.6,
          42.64,
          41.94,
          41.808,
          40.56,
          40.08,
          39.68,
          38.272,
          37.912,
          36.84,
          36.252,
          35.384,
          35.052,
          34.79,
          34.272,
          33.888,
          32.952,
          31.2,
          30.36,
          27.46,
          25.92,
          25.78,
          25.728,
          25.560000000000002,
          25.5,
          25.16,
          25.128,
          25.008,
          24.144,
          23.88,
          22.89,
          22.38,
          22.2,
          21.98,
          21.78,
          21.728,
          21.678,
          21.56,
          20.784,
          20.32,
          19.98,
          19.44,
          19.432,
          19.242,
          19.16,
          18.75,
          17.94,
          17.472,
          17.46,
          16.28,
          15.552,
          15.552,
          15.28,
          15.24,
          15.216,
          13.456,
          13.28,
          12.96,
          12.672,
          12.462,
          11.85,
          11.56,
          10.78,
          10.68,
          10.368,
          10.332,
          9.98,
          9.912,
          9.81,
          9.584,
          9.344,
          8.96,
          8.952,
          8.94,
          8.92,
          8.624,
          8.544,
          8.288,
          8.144,
          7.98,
          7.968,
          7.632,
          7.16,
          7.08,
          6.642,
          6.54,
          6.368,
          5.95,
          5.58,
          5.544,
          5.184,
          5.184,
          4.71,
          4.624,
          4.608,
          3.152,
          2.97,
          2.624
         ],
         "yaxis": "y"
        }
       ],
       "layout": {
        "barmode": "relative",
        "legend": {
         "tracegroupgap": 0
        },
        "template": {
         "data": {
          "bar": [
           {
            "error_x": {
             "color": "#2a3f5f"
            },
            "error_y": {
             "color": "#2a3f5f"
            },
            "marker": {
             "line": {
              "color": "#E5ECF6",
              "width": 0.5
             },
             "pattern": {
              "fillmode": "overlay",
              "size": 10,
              "solidity": 0.2
             }
            },
            "type": "bar"
           }
          ],
          "barpolar": [
           {
            "marker": {
             "line": {
              "color": "#E5ECF6",
              "width": 0.5
             },
             "pattern": {
              "fillmode": "overlay",
              "size": 10,
              "solidity": 0.2
             }
            },
            "type": "barpolar"
           }
          ],
          "carpet": [
           {
            "aaxis": {
             "endlinecolor": "#2a3f5f",
             "gridcolor": "white",
             "linecolor": "white",
             "minorgridcolor": "white",
             "startlinecolor": "#2a3f5f"
            },
            "baxis": {
             "endlinecolor": "#2a3f5f",
             "gridcolor": "white",
             "linecolor": "white",
             "minorgridcolor": "white",
             "startlinecolor": "#2a3f5f"
            },
            "type": "carpet"
           }
          ],
          "choropleth": [
           {
            "colorbar": {
             "outlinewidth": 0,
             "ticks": ""
            },
            "type": "choropleth"
           }
          ],
          "contour": [
           {
            "colorbar": {
             "outlinewidth": 0,
             "ticks": ""
            },
            "colorscale": [
             [
              0,
              "#0d0887"
             ],
             [
              0.1111111111111111,
              "#46039f"
             ],
             [
              0.2222222222222222,
              "#7201a8"
             ],
             [
              0.3333333333333333,
              "#9c179e"
             ],
             [
              0.4444444444444444,
              "#bd3786"
             ],
             [
              0.5555555555555556,
              "#d8576b"
             ],
             [
              0.6666666666666666,
              "#ed7953"
             ],
             [
              0.7777777777777778,
              "#fb9f3a"
             ],
             [
              0.8888888888888888,
              "#fdca26"
             ],
             [
              1,
              "#f0f921"
             ]
            ],
            "type": "contour"
           }
          ],
          "contourcarpet": [
           {
            "colorbar": {
             "outlinewidth": 0,
             "ticks": ""
            },
            "type": "contourcarpet"
           }
          ],
          "heatmap": [
           {
            "colorbar": {
             "outlinewidth": 0,
             "ticks": ""
            },
            "colorscale": [
             [
              0,
              "#0d0887"
             ],
             [
              0.1111111111111111,
              "#46039f"
             ],
             [
              0.2222222222222222,
              "#7201a8"
             ],
             [
              0.3333333333333333,
              "#9c179e"
             ],
             [
              0.4444444444444444,
              "#bd3786"
             ],
             [
              0.5555555555555556,
              "#d8576b"
             ],
             [
              0.6666666666666666,
              "#ed7953"
             ],
             [
              0.7777777777777778,
              "#fb9f3a"
             ],
             [
              0.8888888888888888,
              "#fdca26"
             ],
             [
              1,
              "#f0f921"
             ]
            ],
            "type": "heatmap"
           }
          ],
          "heatmapgl": [
           {
            "colorbar": {
             "outlinewidth": 0,
             "ticks": ""
            },
            "colorscale": [
             [
              0,
              "#0d0887"
             ],
             [
              0.1111111111111111,
              "#46039f"
             ],
             [
              0.2222222222222222,
              "#7201a8"
             ],
             [
              0.3333333333333333,
              "#9c179e"
             ],
             [
              0.4444444444444444,
              "#bd3786"
             ],
             [
              0.5555555555555556,
              "#d8576b"
             ],
             [
              0.6666666666666666,
              "#ed7953"
             ],
             [
              0.7777777777777778,
              "#fb9f3a"
             ],
             [
              0.8888888888888888,
              "#fdca26"
             ],
             [
              1,
              "#f0f921"
             ]
            ],
            "type": "heatmapgl"
           }
          ],
          "histogram": [
           {
            "marker": {
             "pattern": {
              "fillmode": "overlay",
              "size": 10,
              "solidity": 0.2
             }
            },
            "type": "histogram"
           }
          ],
          "histogram2d": [
           {
            "colorbar": {
             "outlinewidth": 0,
             "ticks": ""
            },
            "colorscale": [
             [
              0,
              "#0d0887"
             ],
             [
              0.1111111111111111,
              "#46039f"
             ],
             [
              0.2222222222222222,
              "#7201a8"
             ],
             [
              0.3333333333333333,
              "#9c179e"
             ],
             [
              0.4444444444444444,
              "#bd3786"
             ],
             [
              0.5555555555555556,
              "#d8576b"
             ],
             [
              0.6666666666666666,
              "#ed7953"
             ],
             [
              0.7777777777777778,
              "#fb9f3a"
             ],
             [
              0.8888888888888888,
              "#fdca26"
             ],
             [
              1,
              "#f0f921"
             ]
            ],
            "type": "histogram2d"
           }
          ],
          "histogram2dcontour": [
           {
            "colorbar": {
             "outlinewidth": 0,
             "ticks": ""
            },
            "colorscale": [
             [
              0,
              "#0d0887"
             ],
             [
              0.1111111111111111,
              "#46039f"
             ],
             [
              0.2222222222222222,
              "#7201a8"
             ],
             [
              0.3333333333333333,
              "#9c179e"
             ],
             [
              0.4444444444444444,
              "#bd3786"
             ],
             [
              0.5555555555555556,
              "#d8576b"
             ],
             [
              0.6666666666666666,
              "#ed7953"
             ],
             [
              0.7777777777777778,
              "#fb9f3a"
             ],
             [
              0.8888888888888888,
              "#fdca26"
             ],
             [
              1,
              "#f0f921"
             ]
            ],
            "type": "histogram2dcontour"
           }
          ],
          "mesh3d": [
           {
            "colorbar": {
             "outlinewidth": 0,
             "ticks": ""
            },
            "type": "mesh3d"
           }
          ],
          "parcoords": [
           {
            "line": {
             "colorbar": {
              "outlinewidth": 0,
              "ticks": ""
             }
            },
            "type": "parcoords"
           }
          ],
          "pie": [
           {
            "automargin": true,
            "type": "pie"
           }
          ],
          "scatter": [
           {
            "fillpattern": {
             "fillmode": "overlay",
             "size": 10,
             "solidity": 0.2
            },
            "type": "scatter"
           }
          ],
          "scatter3d": [
           {
            "line": {
             "colorbar": {
              "outlinewidth": 0,
              "ticks": ""
             }
            },
            "marker": {
             "colorbar": {
              "outlinewidth": 0,
              "ticks": ""
             }
            },
            "type": "scatter3d"
           }
          ],
          "scattercarpet": [
           {
            "marker": {
             "colorbar": {
              "outlinewidth": 0,
              "ticks": ""
             }
            },
            "type": "scattercarpet"
           }
          ],
          "scattergeo": [
           {
            "marker": {
             "colorbar": {
              "outlinewidth": 0,
              "ticks": ""
             }
            },
            "type": "scattergeo"
           }
          ],
          "scattergl": [
           {
            "marker": {
             "colorbar": {
              "outlinewidth": 0,
              "ticks": ""
             }
            },
            "type": "scattergl"
           }
          ],
          "scattermapbox": [
           {
            "marker": {
             "colorbar": {
              "outlinewidth": 0,
              "ticks": ""
             }
            },
            "type": "scattermapbox"
           }
          ],
          "scatterpolar": [
           {
            "marker": {
             "colorbar": {
              "outlinewidth": 0,
              "ticks": ""
             }
            },
            "type": "scatterpolar"
           }
          ],
          "scatterpolargl": [
           {
            "marker": {
             "colorbar": {
              "outlinewidth": 0,
              "ticks": ""
             }
            },
            "type": "scatterpolargl"
           }
          ],
          "scatterternary": [
           {
            "marker": {
             "colorbar": {
              "outlinewidth": 0,
              "ticks": ""
             }
            },
            "type": "scatterternary"
           }
          ],
          "surface": [
           {
            "colorbar": {
             "outlinewidth": 0,
             "ticks": ""
            },
            "colorscale": [
             [
              0,
              "#0d0887"
             ],
             [
              0.1111111111111111,
              "#46039f"
             ],
             [
              0.2222222222222222,
              "#7201a8"
             ],
             [
              0.3333333333333333,
              "#9c179e"
             ],
             [
              0.4444444444444444,
              "#bd3786"
             ],
             [
              0.5555555555555556,
              "#d8576b"
             ],
             [
              0.6666666666666666,
              "#ed7953"
             ],
             [
              0.7777777777777778,
              "#fb9f3a"
             ],
             [
              0.8888888888888888,
              "#fdca26"
             ],
             [
              1,
              "#f0f921"
             ]
            ],
            "type": "surface"
           }
          ],
          "table": [
           {
            "cells": {
             "fill": {
              "color": "#EBF0F8"
             },
             "line": {
              "color": "white"
             }
            },
            "header": {
             "fill": {
              "color": "#C8D4E3"
             },
             "line": {
              "color": "white"
             }
            },
            "type": "table"
           }
          ]
         },
         "layout": {
          "annotationdefaults": {
           "arrowcolor": "#2a3f5f",
           "arrowhead": 0,
           "arrowwidth": 1
          },
          "autotypenumbers": "strict",
          "coloraxis": {
           "colorbar": {
            "outlinewidth": 0,
            "ticks": ""
           }
          },
          "colorscale": {
           "diverging": [
            [
             0,
             "#8e0152"
            ],
            [
             0.1,
             "#c51b7d"
            ],
            [
             0.2,
             "#de77ae"
            ],
            [
             0.3,
             "#f1b6da"
            ],
            [
             0.4,
             "#fde0ef"
            ],
            [
             0.5,
             "#f7f7f7"
            ],
            [
             0.6,
             "#e6f5d0"
            ],
            [
             0.7,
             "#b8e186"
            ],
            [
             0.8,
             "#7fbc41"
            ],
            [
             0.9,
             "#4d9221"
            ],
            [
             1,
             "#276419"
            ]
           ],
           "sequential": [
            [
             0,
             "#0d0887"
            ],
            [
             0.1111111111111111,
             "#46039f"
            ],
            [
             0.2222222222222222,
             "#7201a8"
            ],
            [
             0.3333333333333333,
             "#9c179e"
            ],
            [
             0.4444444444444444,
             "#bd3786"
            ],
            [
             0.5555555555555556,
             "#d8576b"
            ],
            [
             0.6666666666666666,
             "#ed7953"
            ],
            [
             0.7777777777777778,
             "#fb9f3a"
            ],
            [
             0.8888888888888888,
             "#fdca26"
            ],
            [
             1,
             "#f0f921"
            ]
           ],
           "sequentialminus": [
            [
             0,
             "#0d0887"
            ],
            [
             0.1111111111111111,
             "#46039f"
            ],
            [
             0.2222222222222222,
             "#7201a8"
            ],
            [
             0.3333333333333333,
             "#9c179e"
            ],
            [
             0.4444444444444444,
             "#bd3786"
            ],
            [
             0.5555555555555556,
             "#d8576b"
            ],
            [
             0.6666666666666666,
             "#ed7953"
            ],
            [
             0.7777777777777778,
             "#fb9f3a"
            ],
            [
             0.8888888888888888,
             "#fdca26"
            ],
            [
             1,
             "#f0f921"
            ]
           ]
          },
          "colorway": [
           "#636efa",
           "#EF553B",
           "#00cc96",
           "#ab63fa",
           "#FFA15A",
           "#19d3f3",
           "#FF6692",
           "#B6E880",
           "#FF97FF",
           "#FECB52"
          ],
          "font": {
           "color": "#2a3f5f"
          },
          "geo": {
           "bgcolor": "white",
           "lakecolor": "white",
           "landcolor": "#E5ECF6",
           "showlakes": true,
           "showland": true,
           "subunitcolor": "white"
          },
          "hoverlabel": {
           "align": "left"
          },
          "hovermode": "closest",
          "mapbox": {
           "style": "light"
          },
          "paper_bgcolor": "white",
          "plot_bgcolor": "#E5ECF6",
          "polar": {
           "angularaxis": {
            "gridcolor": "white",
            "linecolor": "white",
            "ticks": ""
           },
           "bgcolor": "#E5ECF6",
           "radialaxis": {
            "gridcolor": "white",
            "linecolor": "white",
            "ticks": ""
           }
          },
          "scene": {
           "xaxis": {
            "backgroundcolor": "#E5ECF6",
            "gridcolor": "white",
            "gridwidth": 2,
            "linecolor": "white",
            "showbackground": true,
            "ticks": "",
            "zerolinecolor": "white"
           },
           "yaxis": {
            "backgroundcolor": "#E5ECF6",
            "gridcolor": "white",
            "gridwidth": 2,
            "linecolor": "white",
            "showbackground": true,
            "ticks": "",
            "zerolinecolor": "white"
           },
           "zaxis": {
            "backgroundcolor": "#E5ECF6",
            "gridcolor": "white",
            "gridwidth": 2,
            "linecolor": "white",
            "showbackground": true,
            "ticks": "",
            "zerolinecolor": "white"
           }
          },
          "shapedefaults": {
           "line": {
            "color": "#2a3f5f"
           }
          },
          "ternary": {
           "aaxis": {
            "gridcolor": "white",
            "linecolor": "white",
            "ticks": ""
           },
           "baxis": {
            "gridcolor": "white",
            "linecolor": "white",
            "ticks": ""
           },
           "bgcolor": "#E5ECF6",
           "caxis": {
            "gridcolor": "white",
            "linecolor": "white",
            "ticks": ""
           }
          },
          "title": {
           "x": 0.05
          },
          "xaxis": {
           "automargin": true,
           "gridcolor": "white",
           "linecolor": "white",
           "ticks": "",
           "title": {
            "standoff": 15
           },
           "zerolinecolor": "white",
           "zerolinewidth": 2
          },
          "yaxis": {
           "automargin": true,
           "gridcolor": "white",
           "linecolor": "white",
           "ticks": "",
           "title": {
            "standoff": 15
           },
           "zerolinecolor": "white",
           "zerolinewidth": 2
          }
         }
        },
        "title": {
         "text": "Bar Plot Example"
        },
        "xaxis": {
         "anchor": "y",
         "domain": [
          0,
          1
         ],
         "title": {
          "text": "Category"
         }
        },
        "yaxis": {
         "anchor": "x",
         "domain": [
          0,
          1
         ],
         "title": {
          "text": "Sales"
         }
        }
       }
      },
      "text/html": [
       "<div>                            <div id=\"52661df7-79fb-49eb-b497-e46123e9c14c\" class=\"plotly-graph-div\" style=\"height:525px; width:100%;\"></div>            <script type=\"text/javascript\">                require([\"plotly\"], function(Plotly) {                    window.PLOTLYENV=window.PLOTLYENV || {};                                    if (document.getElementById(\"52661df7-79fb-49eb-b497-e46123e9c14c\")) {                    Plotly.newPlot(                        \"52661df7-79fb-49eb-b497-e46123e9c14c\",                        [{\"alignmentgroup\":\"True\",\"hovertemplate\":\"Category=%{x}\\u003cbr\\u003eSales=%{y}\\u003cextra\\u003e\\u003c\\u002fextra\\u003e\",\"legendgroup\":\"\",\"marker\":{\"color\":\"#636efa\",\"pattern\":{\"shape\":\"\"}},\"name\":\"\",\"offsetgroup\":\"\",\"orientation\":\"v\",\"showlegend\":false,\"textposition\":\"auto\",\"x\":[\"Technology\",\"Technology\",\"Office Supplies\",\"Furniture\",\"Office Supplies\",\"Technology\",\"Office Supplies\",\"Furniture\",\"Technology\",\"Technology\",\"Furniture\",\"Technology\",\"Office Supplies\",\"Office Supplies\",\"Office Supplies\",\"Furniture\",\"Furniture\",\"Furniture\",\"Technology\",\"Furniture\",\"Technology\",\"Office Supplies\",\"Technology\",\"Furniture\",\"Technology\",\"Furniture\",\"Furniture\",\"Technology\",\"Office Supplies\",\"Technology\",\"Office Supplies\",\"Office Supplies\",\"Office Supplies\",\"Office Supplies\",\"Furniture\",\"Furniture\",\"Office Supplies\",\"Furniture\",\"Furniture\",\"Furniture\",\"Furniture\",\"Office Supplies\",\"Technology\",\"Technology\",\"Technology\",\"Office Supplies\",\"Technology\",\"Technology\",\"Furniture\",\"Furniture\",\"Office Supplies\",\"Furniture\",\"Office Supplies\",\"Furniture\",\"Office Supplies\",\"Office Supplies\",\"Furniture\",\"Furniture\",\"Furniture\",\"Office Supplies\",\"Furniture\",\"Furniture\",\"Office Supplies\",\"Technology\",\"Furniture\",\"Office Supplies\",\"Technology\",\"Technology\",\"Furniture\",\"Office Supplies\",\"Technology\",\"Technology\",\"Office Supplies\",\"Furniture\",\"Furniture\",\"Technology\",\"Furniture\",\"Technology\",\"Furniture\",\"Furniture\",\"Technology\",\"Technology\",\"Furniture\",\"Technology\",\"Office Supplies\",\"Furniture\",\"Furniture\",\"Technology\",\"Technology\",\"Furniture\",\"Furniture\",\"Technology\",\"Furniture\",\"Office Supplies\",\"Office Supplies\",\"Office Supplies\",\"Furniture\",\"Furniture\",\"Technology\",\"Furniture\",\"Furniture\",\"Technology\",\"Office Supplies\",\"Office Supplies\",\"Office Supplies\",\"Furniture\",\"Furniture\",\"Furniture\",\"Furniture\",\"Furniture\",\"Technology\",\"Office Supplies\",\"Office Supplies\",\"Office Supplies\",\"Technology\",\"Furniture\",\"Furniture\",\"Office Supplies\",\"Technology\",\"Technology\",\"Technology\",\"Furniture\",\"Technology\",\"Office Supplies\",\"Office Supplies\",\"Technology\",\"Office Supplies\",\"Technology\",\"Technology\",\"Technology\",\"Technology\",\"Furniture\",\"Furniture\",\"Technology\",\"Office Supplies\",\"Furniture\",\"Office Supplies\",\"Technology\",\"Office Supplies\",\"Office Supplies\",\"Office Supplies\",\"Technology\",\"Office Supplies\",\"Office Supplies\",\"Furniture\",\"Furniture\",\"Technology\",\"Office Supplies\",\"Furniture\",\"Office Supplies\",\"Technology\",\"Technology\",\"Furniture\",\"Technology\",\"Office Supplies\",\"Furniture\",\"Furniture\",\"Furniture\",\"Office Supplies\",\"Technology\",\"Technology\",\"Office Supplies\",\"Office Supplies\",\"Furniture\",\"Technology\",\"Furniture\",\"Furniture\",\"Office Supplies\",\"Technology\",\"Furniture\",\"Furniture\",\"Furniture\",\"Office Supplies\",\"Technology\",\"Furniture\",\"Furniture\",\"Technology\",\"Technology\",\"Furniture\",\"Furniture\",\"Technology\",\"Technology\",\"Office Supplies\",\"Office Supplies\",\"Technology\",\"Technology\",\"Technology\",\"Technology\",\"Furniture\",\"Office Supplies\",\"Technology\",\"Office Supplies\",\"Furniture\",\"Office Supplies\",\"Technology\",\"Technology\",\"Technology\",\"Office Supplies\",\"Technology\",\"Office Supplies\",\"Office Supplies\",\"Office Supplies\",\"Technology\",\"Technology\",\"Furniture\",\"Office Supplies\",\"Furniture\",\"Office Supplies\",\"Office Supplies\",\"Furniture\",\"Furniture\",\"Furniture\",\"Technology\",\"Furniture\",\"Technology\",\"Office Supplies\",\"Office Supplies\",\"Office Supplies\",\"Office Supplies\",\"Office Supplies\",\"Furniture\",\"Office Supplies\",\"Office Supplies\",\"Technology\",\"Technology\",\"Furniture\",\"Office Supplies\",\"Furniture\",\"Office Supplies\",\"Furniture\",\"Office Supplies\",\"Furniture\",\"Technology\",\"Technology\",\"Technology\",\"Office Supplies\",\"Office Supplies\",\"Technology\",\"Technology\",\"Furniture\",\"Technology\",\"Office Supplies\",\"Office Supplies\",\"Furniture\",\"Technology\",\"Office Supplies\",\"Technology\",\"Furniture\",\"Technology\",\"Office Supplies\",\"Office Supplies\",\"Technology\",\"Furniture\",\"Office Supplies\",\"Technology\",\"Furniture\",\"Office Supplies\",\"Office Supplies\",\"Furniture\",\"Furniture\",\"Furniture\",\"Office Supplies\",\"Technology\",\"Furniture\",\"Office Supplies\",\"Office Supplies\",\"Furniture\",\"Technology\",\"Office Supplies\",\"Furniture\",\"Office Supplies\",\"Office Supplies\",\"Office Supplies\",\"Technology\",\"Furniture\",\"Technology\",\"Office Supplies\",\"Office Supplies\",\"Office Supplies\",\"Furniture\",\"Office Supplies\",\"Furniture\",\"Office Supplies\",\"Office Supplies\",\"Furniture\",\"Office Supplies\",\"Furniture\",\"Technology\",\"Office Supplies\",\"Technology\",\"Office Supplies\",\"Technology\",\"Office Supplies\",\"Office Supplies\",\"Office Supplies\",\"Office Supplies\",\"Technology\",\"Technology\",\"Furniture\",\"Furniture\",\"Office Supplies\",\"Office Supplies\",\"Office Supplies\",\"Furniture\",\"Office Supplies\",\"Furniture\",\"Furniture\",\"Furniture\",\"Office Supplies\",\"Office Supplies\",\"Office Supplies\",\"Furniture\",\"Furniture\",\"Office Supplies\",\"Technology\",\"Furniture\",\"Furniture\",\"Office Supplies\",\"Technology\",\"Furniture\",\"Office Supplies\",\"Furniture\",\"Office Supplies\",\"Technology\",\"Office Supplies\",\"Office Supplies\",\"Technology\",\"Office Supplies\",\"Office Supplies\",\"Technology\",\"Technology\",\"Furniture\",\"Office Supplies\",\"Furniture\",\"Office Supplies\",\"Office Supplies\",\"Office Supplies\",\"Technology\",\"Furniture\",\"Office Supplies\",\"Technology\",\"Technology\",\"Office Supplies\",\"Technology\",\"Furniture\",\"Office Supplies\",\"Office Supplies\",\"Technology\",\"Office Supplies\",\"Technology\",\"Furniture\",\"Office Supplies\",\"Technology\",\"Technology\",\"Office Supplies\",\"Office Supplies\",\"Office Supplies\",\"Office Supplies\",\"Furniture\",\"Technology\",\"Furniture\",\"Furniture\",\"Office Supplies\",\"Office Supplies\",\"Technology\",\"Office Supplies\",\"Office Supplies\",\"Furniture\",\"Office Supplies\",\"Technology\",\"Office Supplies\",\"Furniture\",\"Office Supplies\",\"Office Supplies\",\"Furniture\",\"Technology\",\"Office Supplies\",\"Office Supplies\",\"Furniture\",\"Office Supplies\",\"Office Supplies\",\"Office Supplies\",\"Office Supplies\",\"Technology\",\"Office Supplies\",\"Office Supplies\",\"Office Supplies\",\"Furniture\",\"Furniture\",\"Office Supplies\",\"Furniture\",\"Office Supplies\",\"Office Supplies\",\"Office Supplies\",\"Office Supplies\",\"Office Supplies\",\"Furniture\",\"Technology\",\"Office Supplies\",\"Technology\",\"Office Supplies\",\"Furniture\",\"Office Supplies\",\"Office Supplies\",\"Technology\",\"Office Supplies\",\"Office Supplies\",\"Office Supplies\",\"Office Supplies\",\"Office Supplies\",\"Furniture\",\"Office Supplies\",\"Office Supplies\",\"Furniture\",\"Technology\",\"Furniture\",\"Furniture\",\"Office Supplies\",\"Technology\",\"Office Supplies\",\"Office Supplies\",\"Office Supplies\",\"Furniture\",\"Furniture\",\"Furniture\",\"Office Supplies\",\"Furniture\",\"Office Supplies\",\"Office Supplies\",\"Furniture\",\"Office Supplies\",\"Furniture\",\"Office Supplies\",\"Office Supplies\",\"Office Supplies\",\"Technology\",\"Furniture\",\"Technology\",\"Office Supplies\",\"Office Supplies\",\"Office Supplies\",\"Office Supplies\",\"Office Supplies\",\"Office Supplies\",\"Office Supplies\",\"Furniture\",\"Office Supplies\",\"Office Supplies\",\"Office Supplies\",\"Office Supplies\",\"Office Supplies\",\"Technology\",\"Office Supplies\",\"Furniture\",\"Office Supplies\",\"Office Supplies\",\"Office Supplies\",\"Office Supplies\",\"Office Supplies\",\"Office Supplies\",\"Office Supplies\",\"Office Supplies\",\"Furniture\",\"Office Supplies\",\"Office Supplies\",\"Office Supplies\",\"Office Supplies\",\"Office Supplies\",\"Furniture\",\"Office Supplies\",\"Office Supplies\",\"Furniture\",\"Furniture\",\"Furniture\",\"Office Supplies\",\"Office Supplies\",\"Office Supplies\",\"Office Supplies\",\"Office Supplies\",\"Office Supplies\",\"Office Supplies\",\"Office Supplies\",\"Office Supplies\",\"Furniture\",\"Technology\",\"Office Supplies\",\"Technology\",\"Office Supplies\",\"Office Supplies\",\"Office Supplies\",\"Office Supplies\",\"Office Supplies\",\"Technology\",\"Technology\",\"Office Supplies\"],\"xaxis\":\"x\",\"y\":[23803.548,21569.292,15317.261999999999,14736.437,11365.154,11175.896,10631.09,10184.2525,8735.064,8125.972,8100.92,7824.45,7651.4220000000005,7522.548,6728.631,6233.05,5710.423,5644.77,5448.417,5281.452,5253.582,4773.530000000001,4708.79,4670.9905,4286.905,4271.622,4140.88,4065.9199999999996,3924.718,3627.2970000000005,3341.7419999999997,3100.534,2972.584,2865.29,2807.84,2783.287,2690.454,2573.82,2441.52,2424.756,2396.1400000000003,2363.582,2351.536,2292.898,2158.864,2152.776,2127.608,2046.354,2023.016,2001.86,1993.6899999999998,1981.47,1930.5539999999999,1919.538,1910.37,1856.19,1819.86,1790.29,1745.3600000000001,1726.074,1687.818,1663.964,1653.06,1644.482,1628.82,1606.056,1574.952,1547.8719999999998,1524.632,1518.4899999999998,1513.456,1502.376,1494.0,1487.04,1471.43,1432.0,1421.664,1394.95,1346.256,1314.7600000000002,1301.46,1299.99,1298.55,1279.968,1254.04,1249.096,1224.831,1221.8899999999999,1214.85,1189.0819999999999,1184.72,1147.94,1133.35,1119.09,1113.024,1111.312,1092.996,1083.9066,1082.954,1066.59,1066.5700000000002,1049.93,1041.864,1040.15,1029.933,1029.216,1025.88,1023.9879999999999,1023.444,975.92,974.2,917.11,909.827,885.9889999999999,878.848,872.08,860.322,851.722,849.97,844.576,842.5179999999999,841.54,799.92,795.5999999999999,782.72,779.796,770.61,758.352,756.7360000000001,752.84,750.98,749.9,749.12,743.19,727.87,724.76,712.52,699.93,692.98,689.89,684.6320000000001,682.91,665.912,651.07,650.14,647.84,646.74,640.52,634.116,632.9060000000001,620.384,617.97,617.7,616.6479999999999,614.756,605.34,603.92,591.32,590.6080000000001,590.196,589.674,586.302,583.504,579.918,575.92,563.94,561.584,560.49,555.936,545.94,545.928,545.88,540.08,519.904,512.358,489.23,479.97,479.96,479.9,478.48,475.944,475.944,475.41999999999996,473.58,468.9,447.944,439.944,438.336,433.568,423.28,420.55999999999995,411.66999999999996,409.59,407.43999999999994,399.96,399.96,389.91999999999996,384.612,372.32,365.5,362.176,361.7,359.98,359.344,355.455,347.64,342.864,341.0,340.613,340.116,338.352,337.088,333.576,332.924,323.024,322.12,321.978,317.48,315.94,310.36,308.499,306.2,302.89,302.376,302.376,300.56,291.474,290.666,290.64000000000004,288.83000000000004,288.06,287.67,284.82,281.97,279.96,276.664,275.176,273.96,272.61,272.47,271.9,270.89,270.72,268.935,267.96,264.32,263.96,258.279,257.98,257.752,255.85,255.42,254.9,254.476,251.944,245.98,243.824,243.60000000000002,240.912,232.73600000000002,228.978,225.44,223.96,222.974,221.16,220.596,218.41,215.94,213.394,207.27800000000002,206.668,206.49,205.875,200.97,199.3065,197.97,197.54,197.476,191.6,190.848,190.144,186.304,184.79000000000002,183.52,183.372,182.94,181.47,177.0,172.85,167.968,166.44,164.85,162.48,161.92000000000002,160.03,156.786,155.976,149.97,149.8,149.232,147.344,145.93,144.83,142.4,142.128,141.96,136.53,134.832,134.67000000000002,131.84,129.964,129.92,129.888,129.3,127.984,127.95,127.302,126.786,125.94999999999999,122.352,121.608,121.376,117.28,116.85,116.14,115.952,115.36,114.4,113.768,111.93,111.79,111.0,109.86,108.28,107.69,106.15199999999999,105.43,104.85,104.01,100.704,99.98,99.98,97.2,95.976,93.59,93.49,93.176,92.52,91.68,88.776,85.98,84.07000000000001,82.8,82.782,81.92,81.88000000000001,79.45,77.32799999999999,75.24,73.98,73.915,73.32,73.19999999999999,73.092,72.462,71.538,71.188,70.71,70.032,69.99,69.216,68.704,67.75999999999999,67.194,66.112,65.44,63.264,62.495999999999995,60.672,59.808,59.584,59.109,58.32,57.4,55.809999999999995,55.672,55.5,53.88,52.96,52.93,51.96,51.184,49.792,48.4,47.992,45.68,44.128,43.6,42.64,41.94,41.808,40.56,40.08,39.68,38.272,37.912,36.84,36.252,35.384,35.052,34.79,34.272,33.888,32.952,31.2,30.36,27.46,25.92,25.78,25.728,25.560000000000002,25.5,25.16,25.128,25.008,24.144,23.88,22.89,22.38,22.2,21.98,21.78,21.728,21.678,21.56,20.784,20.32,19.98,19.44,19.432,19.242,19.16,18.75,17.94,17.472,17.46,16.28,15.552,15.552,15.28,15.24,15.216,13.456,13.28,12.96,12.672,12.462,11.85,11.56,10.78,10.68,10.368,10.332,9.98,9.912,9.81,9.584,9.344,8.96,8.952,8.94,8.92,8.624,8.544,8.288,8.144,7.98,7.968,7.632,7.16,7.08,6.642,6.54,6.368,5.95,5.58,5.544,5.184,5.184,4.71,4.624,4.608,3.152,2.97,2.624],\"yaxis\":\"y\",\"type\":\"bar\"}],                        {\"template\":{\"data\":{\"histogram2dcontour\":[{\"type\":\"histogram2dcontour\",\"colorbar\":{\"outlinewidth\":0,\"ticks\":\"\"},\"colorscale\":[[0.0,\"#0d0887\"],[0.1111111111111111,\"#46039f\"],[0.2222222222222222,\"#7201a8\"],[0.3333333333333333,\"#9c179e\"],[0.4444444444444444,\"#bd3786\"],[0.5555555555555556,\"#d8576b\"],[0.6666666666666666,\"#ed7953\"],[0.7777777777777778,\"#fb9f3a\"],[0.8888888888888888,\"#fdca26\"],[1.0,\"#f0f921\"]]}],\"choropleth\":[{\"type\":\"choropleth\",\"colorbar\":{\"outlinewidth\":0,\"ticks\":\"\"}}],\"histogram2d\":[{\"type\":\"histogram2d\",\"colorbar\":{\"outlinewidth\":0,\"ticks\":\"\"},\"colorscale\":[[0.0,\"#0d0887\"],[0.1111111111111111,\"#46039f\"],[0.2222222222222222,\"#7201a8\"],[0.3333333333333333,\"#9c179e\"],[0.4444444444444444,\"#bd3786\"],[0.5555555555555556,\"#d8576b\"],[0.6666666666666666,\"#ed7953\"],[0.7777777777777778,\"#fb9f3a\"],[0.8888888888888888,\"#fdca26\"],[1.0,\"#f0f921\"]]}],\"heatmap\":[{\"type\":\"heatmap\",\"colorbar\":{\"outlinewidth\":0,\"ticks\":\"\"},\"colorscale\":[[0.0,\"#0d0887\"],[0.1111111111111111,\"#46039f\"],[0.2222222222222222,\"#7201a8\"],[0.3333333333333333,\"#9c179e\"],[0.4444444444444444,\"#bd3786\"],[0.5555555555555556,\"#d8576b\"],[0.6666666666666666,\"#ed7953\"],[0.7777777777777778,\"#fb9f3a\"],[0.8888888888888888,\"#fdca26\"],[1.0,\"#f0f921\"]]}],\"heatmapgl\":[{\"type\":\"heatmapgl\",\"colorbar\":{\"outlinewidth\":0,\"ticks\":\"\"},\"colorscale\":[[0.0,\"#0d0887\"],[0.1111111111111111,\"#46039f\"],[0.2222222222222222,\"#7201a8\"],[0.3333333333333333,\"#9c179e\"],[0.4444444444444444,\"#bd3786\"],[0.5555555555555556,\"#d8576b\"],[0.6666666666666666,\"#ed7953\"],[0.7777777777777778,\"#fb9f3a\"],[0.8888888888888888,\"#fdca26\"],[1.0,\"#f0f921\"]]}],\"contourcarpet\":[{\"type\":\"contourcarpet\",\"colorbar\":{\"outlinewidth\":0,\"ticks\":\"\"}}],\"contour\":[{\"type\":\"contour\",\"colorbar\":{\"outlinewidth\":0,\"ticks\":\"\"},\"colorscale\":[[0.0,\"#0d0887\"],[0.1111111111111111,\"#46039f\"],[0.2222222222222222,\"#7201a8\"],[0.3333333333333333,\"#9c179e\"],[0.4444444444444444,\"#bd3786\"],[0.5555555555555556,\"#d8576b\"],[0.6666666666666666,\"#ed7953\"],[0.7777777777777778,\"#fb9f3a\"],[0.8888888888888888,\"#fdca26\"],[1.0,\"#f0f921\"]]}],\"surface\":[{\"type\":\"surface\",\"colorbar\":{\"outlinewidth\":0,\"ticks\":\"\"},\"colorscale\":[[0.0,\"#0d0887\"],[0.1111111111111111,\"#46039f\"],[0.2222222222222222,\"#7201a8\"],[0.3333333333333333,\"#9c179e\"],[0.4444444444444444,\"#bd3786\"],[0.5555555555555556,\"#d8576b\"],[0.6666666666666666,\"#ed7953\"],[0.7777777777777778,\"#fb9f3a\"],[0.8888888888888888,\"#fdca26\"],[1.0,\"#f0f921\"]]}],\"mesh3d\":[{\"type\":\"mesh3d\",\"colorbar\":{\"outlinewidth\":0,\"ticks\":\"\"}}],\"scatter\":[{\"fillpattern\":{\"fillmode\":\"overlay\",\"size\":10,\"solidity\":0.2},\"type\":\"scatter\"}],\"parcoords\":[{\"type\":\"parcoords\",\"line\":{\"colorbar\":{\"outlinewidth\":0,\"ticks\":\"\"}}}],\"scatterpolargl\":[{\"type\":\"scatterpolargl\",\"marker\":{\"colorbar\":{\"outlinewidth\":0,\"ticks\":\"\"}}}],\"bar\":[{\"error_x\":{\"color\":\"#2a3f5f\"},\"error_y\":{\"color\":\"#2a3f5f\"},\"marker\":{\"line\":{\"color\":\"#E5ECF6\",\"width\":0.5},\"pattern\":{\"fillmode\":\"overlay\",\"size\":10,\"solidity\":0.2}},\"type\":\"bar\"}],\"scattergeo\":[{\"type\":\"scattergeo\",\"marker\":{\"colorbar\":{\"outlinewidth\":0,\"ticks\":\"\"}}}],\"scatterpolar\":[{\"type\":\"scatterpolar\",\"marker\":{\"colorbar\":{\"outlinewidth\":0,\"ticks\":\"\"}}}],\"histogram\":[{\"marker\":{\"pattern\":{\"fillmode\":\"overlay\",\"size\":10,\"solidity\":0.2}},\"type\":\"histogram\"}],\"scattergl\":[{\"type\":\"scattergl\",\"marker\":{\"colorbar\":{\"outlinewidth\":0,\"ticks\":\"\"}}}],\"scatter3d\":[{\"type\":\"scatter3d\",\"line\":{\"colorbar\":{\"outlinewidth\":0,\"ticks\":\"\"}},\"marker\":{\"colorbar\":{\"outlinewidth\":0,\"ticks\":\"\"}}}],\"scattermapbox\":[{\"type\":\"scattermapbox\",\"marker\":{\"colorbar\":{\"outlinewidth\":0,\"ticks\":\"\"}}}],\"scatterternary\":[{\"type\":\"scatterternary\",\"marker\":{\"colorbar\":{\"outlinewidth\":0,\"ticks\":\"\"}}}],\"scattercarpet\":[{\"type\":\"scattercarpet\",\"marker\":{\"colorbar\":{\"outlinewidth\":0,\"ticks\":\"\"}}}],\"carpet\":[{\"aaxis\":{\"endlinecolor\":\"#2a3f5f\",\"gridcolor\":\"white\",\"linecolor\":\"white\",\"minorgridcolor\":\"white\",\"startlinecolor\":\"#2a3f5f\"},\"baxis\":{\"endlinecolor\":\"#2a3f5f\",\"gridcolor\":\"white\",\"linecolor\":\"white\",\"minorgridcolor\":\"white\",\"startlinecolor\":\"#2a3f5f\"},\"type\":\"carpet\"}],\"table\":[{\"cells\":{\"fill\":{\"color\":\"#EBF0F8\"},\"line\":{\"color\":\"white\"}},\"header\":{\"fill\":{\"color\":\"#C8D4E3\"},\"line\":{\"color\":\"white\"}},\"type\":\"table\"}],\"barpolar\":[{\"marker\":{\"line\":{\"color\":\"#E5ECF6\",\"width\":0.5},\"pattern\":{\"fillmode\":\"overlay\",\"size\":10,\"solidity\":0.2}},\"type\":\"barpolar\"}],\"pie\":[{\"automargin\":true,\"type\":\"pie\"}]},\"layout\":{\"autotypenumbers\":\"strict\",\"colorway\":[\"#636efa\",\"#EF553B\",\"#00cc96\",\"#ab63fa\",\"#FFA15A\",\"#19d3f3\",\"#FF6692\",\"#B6E880\",\"#FF97FF\",\"#FECB52\"],\"font\":{\"color\":\"#2a3f5f\"},\"hovermode\":\"closest\",\"hoverlabel\":{\"align\":\"left\"},\"paper_bgcolor\":\"white\",\"plot_bgcolor\":\"#E5ECF6\",\"polar\":{\"bgcolor\":\"#E5ECF6\",\"angularaxis\":{\"gridcolor\":\"white\",\"linecolor\":\"white\",\"ticks\":\"\"},\"radialaxis\":{\"gridcolor\":\"white\",\"linecolor\":\"white\",\"ticks\":\"\"}},\"ternary\":{\"bgcolor\":\"#E5ECF6\",\"aaxis\":{\"gridcolor\":\"white\",\"linecolor\":\"white\",\"ticks\":\"\"},\"baxis\":{\"gridcolor\":\"white\",\"linecolor\":\"white\",\"ticks\":\"\"},\"caxis\":{\"gridcolor\":\"white\",\"linecolor\":\"white\",\"ticks\":\"\"}},\"coloraxis\":{\"colorbar\":{\"outlinewidth\":0,\"ticks\":\"\"}},\"colorscale\":{\"sequential\":[[0.0,\"#0d0887\"],[0.1111111111111111,\"#46039f\"],[0.2222222222222222,\"#7201a8\"],[0.3333333333333333,\"#9c179e\"],[0.4444444444444444,\"#bd3786\"],[0.5555555555555556,\"#d8576b\"],[0.6666666666666666,\"#ed7953\"],[0.7777777777777778,\"#fb9f3a\"],[0.8888888888888888,\"#fdca26\"],[1.0,\"#f0f921\"]],\"sequentialminus\":[[0.0,\"#0d0887\"],[0.1111111111111111,\"#46039f\"],[0.2222222222222222,\"#7201a8\"],[0.3333333333333333,\"#9c179e\"],[0.4444444444444444,\"#bd3786\"],[0.5555555555555556,\"#d8576b\"],[0.6666666666666666,\"#ed7953\"],[0.7777777777777778,\"#fb9f3a\"],[0.8888888888888888,\"#fdca26\"],[1.0,\"#f0f921\"]],\"diverging\":[[0,\"#8e0152\"],[0.1,\"#c51b7d\"],[0.2,\"#de77ae\"],[0.3,\"#f1b6da\"],[0.4,\"#fde0ef\"],[0.5,\"#f7f7f7\"],[0.6,\"#e6f5d0\"],[0.7,\"#b8e186\"],[0.8,\"#7fbc41\"],[0.9,\"#4d9221\"],[1,\"#276419\"]]},\"xaxis\":{\"gridcolor\":\"white\",\"linecolor\":\"white\",\"ticks\":\"\",\"title\":{\"standoff\":15},\"zerolinecolor\":\"white\",\"automargin\":true,\"zerolinewidth\":2},\"yaxis\":{\"gridcolor\":\"white\",\"linecolor\":\"white\",\"ticks\":\"\",\"title\":{\"standoff\":15},\"zerolinecolor\":\"white\",\"automargin\":true,\"zerolinewidth\":2},\"scene\":{\"xaxis\":{\"backgroundcolor\":\"#E5ECF6\",\"gridcolor\":\"white\",\"linecolor\":\"white\",\"showbackground\":true,\"ticks\":\"\",\"zerolinecolor\":\"white\",\"gridwidth\":2},\"yaxis\":{\"backgroundcolor\":\"#E5ECF6\",\"gridcolor\":\"white\",\"linecolor\":\"white\",\"showbackground\":true,\"ticks\":\"\",\"zerolinecolor\":\"white\",\"gridwidth\":2},\"zaxis\":{\"backgroundcolor\":\"#E5ECF6\",\"gridcolor\":\"white\",\"linecolor\":\"white\",\"showbackground\":true,\"ticks\":\"\",\"zerolinecolor\":\"white\",\"gridwidth\":2}},\"shapedefaults\":{\"line\":{\"color\":\"#2a3f5f\"}},\"annotationdefaults\":{\"arrowcolor\":\"#2a3f5f\",\"arrowhead\":0,\"arrowwidth\":1},\"geo\":{\"bgcolor\":\"white\",\"landcolor\":\"#E5ECF6\",\"subunitcolor\":\"white\",\"showland\":true,\"showlakes\":true,\"lakecolor\":\"white\"},\"title\":{\"x\":0.05},\"mapbox\":{\"style\":\"light\"}}},\"xaxis\":{\"anchor\":\"y\",\"domain\":[0.0,1.0],\"title\":{\"text\":\"Category\"}},\"yaxis\":{\"anchor\":\"x\",\"domain\":[0.0,1.0],\"title\":{\"text\":\"Sales\"}},\"legend\":{\"tracegroupgap\":0},\"title\":{\"text\":\"Bar Plot Example\"},\"barmode\":\"relative\"},                        {\"responsive\": true}                    ).then(function(){\n",
       "                            \n",
       "var gd = document.getElementById('52661df7-79fb-49eb-b497-e46123e9c14c');\n",
       "var x = new MutationObserver(function (mutations, observer) {{\n",
       "        var display = window.getComputedStyle(gd).display;\n",
       "        if (!display || display === 'none') {{\n",
       "            console.log([gd, 'removed!']);\n",
       "            Plotly.purge(gd);\n",
       "            observer.disconnect();\n",
       "        }}\n",
       "}});\n",
       "\n",
       "// Listen for the removal of the full notebook cells\n",
       "var notebookContainer = gd.closest('#notebook-container');\n",
       "if (notebookContainer) {{\n",
       "    x.observe(notebookContainer, {childList: true});\n",
       "}}\n",
       "\n",
       "// Listen for the clearing of the current output cell\n",
       "var outputEl = gd.closest('.output');\n",
       "if (outputEl) {{\n",
       "    x.observe(outputEl, {childList: true});\n",
       "}}\n",
       "\n",
       "                        })                };                });            </script>        </div>"
      ]
     },
     "metadata": {},
     "output_type": "display_data"
    }
   ],
   "source": [
    "import plotly.express as px\n",
    "\n",
    "\n",
    "fig = px.bar(Category_byCity_sales2011,x='Category',y='Sales',title='Bar Plot Example')\n",
    "\n",
    "fig.show()"
   ]
  },
  {
   "cell_type": "code",
   "execution_count": null,
   "id": "4bd3b3d2",
   "metadata": {},
   "outputs": [],
   "source": []
  }
 ],
 "metadata": {
  "kernelspec": {
   "display_name": "Python 3 (ipykernel)",
   "language": "python",
   "name": "python3"
  },
  "language_info": {
   "codemirror_mode": {
    "name": "ipython",
    "version": 3
   },
   "file_extension": ".py",
   "mimetype": "text/x-python",
   "name": "python",
   "nbconvert_exporter": "python",
   "pygments_lexer": "ipython3",
   "version": "3.10.1"
  }
 },
 "nbformat": 4,
 "nbformat_minor": 5
}
